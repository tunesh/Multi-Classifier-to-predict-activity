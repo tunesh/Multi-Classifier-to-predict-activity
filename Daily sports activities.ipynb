{
 "cells": [
  {
   "cell_type": "code",
   "execution_count": 1,
   "metadata": {
    "collapsed": true,
    "scrolled": true
   },
   "outputs": [],
   "source": [
    "import pandas as pd\n",
    "import numpy as np\n"
   ]
  },
  {
   "cell_type": "code",
   "execution_count": 2,
   "metadata": {
    "collapsed": true
   },
   "outputs": [],
   "source": [
    "#loading data of a01\n",
    "import glob\n",
    "import os\n",
    "#set folder to import files from\n",
    "\n",
    "full_data_a01=pd.DataFrame()\n",
    "#c=0\n",
    "for i in range(1, 9):\n",
    "    folder = os.listdir('C:/Users/tunes/Downloads/data/data/a01/p'+str(i))\n",
    "    #print(folder_file)\n",
    "    \n",
    "    for file in folder:\n",
    "        filepath = 'C:/Users/tunes/Downloads/data/data/a01/p'+str(i) + \"/\" + file\n",
    "        #print(filepath)\n",
    "        data = pd.read_csv(filepath, header=None)\n",
    "        #full_data=np.array(data)\n",
    "        #print(full_data.shape)\n",
    "        full_data_a01=full_data_a01.append(data)\n",
    "        #c=c+1\n",
    "#print(full_data_a01.shape)\n",
    "    #print(c)"
   ]
  },
  {
   "cell_type": "code",
   "execution_count": 3,
   "metadata": {
    "collapsed": true
   },
   "outputs": [],
   "source": [
    "#labeling the data to a01\n",
    "full_data_a01[45]=\"a01\""
   ]
  },
  {
   "cell_type": "code",
   "execution_count": 4,
   "metadata": {
    "collapsed": true
   },
   "outputs": [],
   "source": [
    "#loading data from a02 \n",
    "full_data_a02=pd.DataFrame()\n",
    "\n",
    "for i in range(1, 9):\n",
    "    folder = os.listdir('C:/Users/tunes/Downloads/data/data/a02/p'+str(i))\n",
    "    #print(folder_file)\n",
    "    \n",
    "    for file in folder:\n",
    "        filepath = 'C:/Users/tunes/Downloads/data/data/a02/p'+str(i) + \"\\\\\" + file\n",
    "        #print(filepath)\n",
    "        data = pd.read_csv(filepath, header=None)\n",
    "        #full_data=np.array(data)\n",
    "        full_data_a02=full_data_a02.append(data)\n",
    "        #full_data_a02.reset_index(drop=True)\n",
    "        #print(full_data_a02)"
   ]
  },
  {
   "cell_type": "code",
   "execution_count": 5,
   "metadata": {
    "collapsed": true
   },
   "outputs": [],
   "source": [
    "full_data_a02[45]=\"a02\""
   ]
  },
  {
   "cell_type": "code",
   "execution_count": 6,
   "metadata": {
    "collapsed": true
   },
   "outputs": [],
   "source": [
    "full_data_a03=pd.DataFrame()\n",
    "\n",
    "for i in range(1, 9):\n",
    "    folder = os.listdir('C:/Users/tunes/Downloads/data/data/a03/p'+str(i))\n",
    "    #print(folder_file)\n",
    "    \n",
    "    for file in folder:\n",
    "        filepath = 'C:/Users/tunes/Downloads/data/data/a03/p'+str(i) + \"\\\\\" + file\n",
    "        #print(filepath)\n",
    "        data = pd.read_csv(filepath, header=None)\n",
    "        #full_data=np.array(data)\n",
    "        full_data_a03=full_data_a03.append(data)\n",
    "        #full_data_a03.reset_index(drop=True)\n",
    "        #print(full_data_a03)"
   ]
  },
  {
   "cell_type": "code",
   "execution_count": 7,
   "metadata": {
    "collapsed": true
   },
   "outputs": [],
   "source": [
    "full_data_a03[45]=\"a03\""
   ]
  },
  {
   "cell_type": "code",
   "execution_count": 8,
   "metadata": {
    "collapsed": true
   },
   "outputs": [],
   "source": [
    "full_data_a04=pd.DataFrame()\n",
    "\n",
    "for i in range(1, 9):\n",
    "    folder = os.listdir('C:/Users/tunes/Downloads/data/data/a04/p'+str(i))\n",
    "    #print(folder_file)\n",
    "    \n",
    "    for file in folder:\n",
    "        filepath = 'C:/Users/tunes/Downloads/data/data/a04/p'+str(i) + \"\\\\\" + file\n",
    "        #print(filepath)\n",
    "        data = pd.read_csv(filepath, header=None)\n",
    "       # full_data=np.array(data)\n",
    "        full_data_a04=full_data_a04.append(data)\n",
    "        #full_data_a04.reset_index(drop=True)\n",
    "        #print(full_data_a03)"
   ]
  },
  {
   "cell_type": "code",
   "execution_count": 9,
   "metadata": {
    "collapsed": true
   },
   "outputs": [],
   "source": [
    "full_data_a04[45]=\"a04\""
   ]
  },
  {
   "cell_type": "code",
   "execution_count": 10,
   "metadata": {
    "collapsed": true
   },
   "outputs": [],
   "source": [
    "full_data_a05=pd.DataFrame()\n",
    "\n",
    "for i in range(1, 9):\n",
    "    folder = os.listdir('C:/Users/tunes/Downloads/data/data/a05/p'+str(i))\n",
    "    #print(folder_file)\n",
    "    \n",
    "    for file in folder:\n",
    "        filepath = 'C:/Users/tunes/Downloads/data/data/a05/p'+str(i) + \"\\\\\" + file\n",
    "        #print(filepath)\n",
    "        data = pd.read_csv(filepath, header=None)\n",
    "        #full_data=np.array(data)\n",
    "        full_data_a05=full_data_a05.append(data)\n",
    "        #full_data_a05.reset_index(drop=True)\n",
    "#print(full_data_a05)"
   ]
  },
  {
   "cell_type": "code",
   "execution_count": 11,
   "metadata": {
    "collapsed": true
   },
   "outputs": [],
   "source": [
    "full_data_a05[45]=\"a05\""
   ]
  },
  {
   "cell_type": "code",
   "execution_count": 12,
   "metadata": {
    "collapsed": true
   },
   "outputs": [],
   "source": [
    "full_data_a06=pd.DataFrame()\n",
    "\n",
    "for i in range(1, 9):\n",
    "    folder = os.listdir('C:/Users/tunes/Downloads/data/data/a06/p'+str(i))\n",
    "    #print(folder_file)\n",
    "    \n",
    "    for file in folder:\n",
    "        filepath = 'C:/Users/tunes/Downloads/data/data/a06/p'+str(i) + \"\\\\\" + file\n",
    "        #print(filepath)\n",
    "        data = pd.read_csv(filepath, header=None)\n",
    "        #full_data=np.array(data)\n",
    "        full_data_a06=full_data_a06.append(data)\n",
    "        #full_data_a06.reset_index(drop=True)\n",
    "        #print(full_data_a03)"
   ]
  },
  {
   "cell_type": "code",
   "execution_count": 13,
   "metadata": {
    "collapsed": true
   },
   "outputs": [],
   "source": [
    "full_data_a06[45]=\"a06\""
   ]
  },
  {
   "cell_type": "code",
   "execution_count": 14,
   "metadata": {
    "collapsed": true
   },
   "outputs": [],
   "source": [
    "full_data_a07=pd.DataFrame()\n",
    "\n",
    "for i in range(1, 9):\n",
    "    folder = os.listdir('C:/Users/tunes/Downloads/data/data/a07/p'+str(i))\n",
    "    #print(folder_file)\n",
    "    \n",
    "    for file in folder:\n",
    "        filepath = 'C:/Users/tunes/Downloads/data/data/a07/p'+str(i) + \"\\\\\" + file\n",
    "        #print(filepath)\n",
    "        data = pd.read_csv(filepath, header=None)\n",
    "        #full_data=np.array(data)\n",
    "        full_data_a07=full_data_a07.append(data)\n",
    "        #full_data_a07.reset_index(drop=True)\n",
    "        #print(full_data_a03)"
   ]
  },
  {
   "cell_type": "code",
   "execution_count": 15,
   "metadata": {
    "collapsed": true
   },
   "outputs": [],
   "source": [
    "full_data_a07[45]=\"a07\""
   ]
  },
  {
   "cell_type": "code",
   "execution_count": 16,
   "metadata": {
    "collapsed": true
   },
   "outputs": [],
   "source": [
    "full_data_a08=pd.DataFrame()\n",
    "\n",
    "for i in range(1, 9):\n",
    "    folder = os.listdir('C:/Users/tunes/Downloads/data/data/a08/p'+str(i))\n",
    "    #print(folder_file)\n",
    "    \n",
    "    for file in folder:\n",
    "        filepath = 'C:/Users/tunes/Downloads/data/data/a08/p'+str(i) + \"\\\\\" + file\n",
    "        #print(filepath)\n",
    "        data = pd.read_csv(filepath, header=None)\n",
    "        #full_data=np.array(data)\n",
    "        full_data_a08=full_data_a08.append(data)\n",
    "        #full_data_a08.reset_index(drop=True)\n",
    "        #print(full_data_a03)"
   ]
  },
  {
   "cell_type": "code",
   "execution_count": 17,
   "metadata": {
    "collapsed": true
   },
   "outputs": [],
   "source": [
    "full_data_a08[45]=\"a08\""
   ]
  },
  {
   "cell_type": "code",
   "execution_count": 18,
   "metadata": {
    "collapsed": true
   },
   "outputs": [],
   "source": [
    "full_data_a09=pd.DataFrame()\n",
    "\n",
    "for i in range(1, 9):\n",
    "    folder = os.listdir('C:/Users/tunes/Downloads/data/data/a09/p'+str(i))\n",
    "    #print(folder_file)\n",
    "    \n",
    "    for file in folder:\n",
    "        filepath = 'C:/Users/tunes/Downloads/data/data/a09/p'+str(i) + \"\\\\\" + file\n",
    "        #print(filepath)\n",
    "        data = pd.read_csv(filepath, header=None)\n",
    "        #full_data=np.array(data)\n",
    "        full_data_a09=full_data_a09.append(data)\n",
    "        #full_data_a09.reset_index(drop=True)\n",
    "        #print(full_data_a03)"
   ]
  },
  {
   "cell_type": "code",
   "execution_count": 19,
   "metadata": {
    "collapsed": true
   },
   "outputs": [],
   "source": [
    "full_data_a09[45]=\"a09\""
   ]
  },
  {
   "cell_type": "code",
   "execution_count": 20,
   "metadata": {
    "collapsed": true
   },
   "outputs": [],
   "source": [
    "full_data_a10=pd.DataFrame()\n",
    "\n",
    "for i in range(1, 9):\n",
    "    folder = os.listdir('C:/Users/tunes/Downloads/data/data/a10/p'+str(i))\n",
    "    #print(folder_file)\n",
    "    \n",
    "    for file in folder:\n",
    "        filepath = 'C:/Users/tunes/Downloads/data/data/a10/p'+str(i) + \"\\\\\" + file\n",
    "        #print(filepath)\n",
    "        data = pd.read_csv(filepath, header=None)\n",
    "        #full_data=np.array(data)\n",
    "        full_data_a10=full_data_a10.append(data)\n",
    "        #full_data_a10.reset_index(drop=True)\n",
    "        #print(full_data_a03)"
   ]
  },
  {
   "cell_type": "code",
   "execution_count": 21,
   "metadata": {
    "collapsed": true
   },
   "outputs": [],
   "source": [
    "full_data_a10[45]=\"a10\""
   ]
  },
  {
   "cell_type": "code",
   "execution_count": 22,
   "metadata": {
    "collapsed": true
   },
   "outputs": [],
   "source": [
    "full_data_a11=pd.DataFrame()\n",
    "\n",
    "for i in range(1, 9):\n",
    "    folder = os.listdir('C:/Users/tunes/Downloads/data/data/a11/p'+str(i))\n",
    "    #print(folder_file)\n",
    "    \n",
    "    for file in folder:\n",
    "        filepath = 'C:/Users/tunes/Downloads/data/data/a11/p'+str(i) + \"\\\\\" + file\n",
    "        #print(filepath)\n",
    "        data = pd.read_csv(filepath, header=None)\n",
    "        #full_data=np.array(data)\n",
    "        full_data_a11=full_data_a11.append(data)\n",
    "        #full_data_a11.reset_index(drop=True)\n",
    "        #print(full_data_a03)"
   ]
  },
  {
   "cell_type": "code",
   "execution_count": 23,
   "metadata": {
    "collapsed": true
   },
   "outputs": [],
   "source": [
    "full_data_a11[45]=\"a11\""
   ]
  },
  {
   "cell_type": "code",
   "execution_count": 24,
   "metadata": {
    "collapsed": true
   },
   "outputs": [],
   "source": [
    "full_data_a12=pd.DataFrame()\n",
    "\n",
    "for i in range(1, 9):\n",
    "    folder = os.listdir('C:/Users/tunes/Downloads/data/data/a12/p'+str(i))\n",
    "    #print(folder_file)\n",
    "    \n",
    "    for file in folder:\n",
    "        filepath = 'C:/Users/tunes/Downloads/data/data/a12/p'+str(i) + \"\\\\\" + file\n",
    "        #print(filepath)\n",
    "        data = pd.read_csv(filepath, header=None)\n",
    "        #full_data=np.array(data)\n",
    "        full_data_a12=full_data_a12.append(data)\n",
    "        #full_data_a12.reset_index(drop=True)\n",
    "        #print(full_data_a03)"
   ]
  },
  {
   "cell_type": "code",
   "execution_count": 25,
   "metadata": {
    "collapsed": true
   },
   "outputs": [],
   "source": [
    "full_data_a12[45]=\"a12\""
   ]
  },
  {
   "cell_type": "code",
   "execution_count": 26,
   "metadata": {
    "collapsed": true
   },
   "outputs": [],
   "source": [
    "full_data_a13=pd.DataFrame()\n",
    "\n",
    "for i in range(1, 9):\n",
    "    folder = os.listdir('C:/Users/tunes/Downloads/data/data/a13/p'+str(i))\n",
    "    #print(folder_file)\n",
    "    \n",
    "    for file in folder:\n",
    "        filepath = 'C:/Users/tunes/Downloads/data/data/a13/p'+str(i) + \"\\\\\" + file\n",
    "        #print(filepath)\n",
    "        data = pd.read_csv(filepath, header=None)\n",
    "        #full_data=np.array(data)\n",
    "        full_data_a13=full_data_a13.append(data)\n",
    "        #full_data_a13.reset_index(drop=True)\n",
    "        #print(full_data_a03)"
   ]
  },
  {
   "cell_type": "code",
   "execution_count": 27,
   "metadata": {
    "collapsed": true
   },
   "outputs": [],
   "source": [
    "full_data_a13[45]=\"a13\""
   ]
  },
  {
   "cell_type": "code",
   "execution_count": 28,
   "metadata": {
    "collapsed": true
   },
   "outputs": [],
   "source": [
    "full_data_a14=pd.DataFrame()\n",
    "\n",
    "for i in range(1, 9):\n",
    "    folder = os.listdir('C:/Users/tunes/Downloads/data/data/a14/p'+str(i))\n",
    "    #print(folder_file)\n",
    "    \n",
    "    for file in folder:\n",
    "        filepath = 'C:/Users/tunes/Downloads/data/data/a14/p'+str(i) + \"\\\\\" + file\n",
    "        #print(filepath)\n",
    "        data = pd.read_csv(filepath, header=None)\n",
    "        #full_data=np.array(data)\n",
    "        full_data_a14=full_data_a14.append(data)\n",
    "        #full_data_a14.reset_index(drop=True)\n",
    "        #print(full_data_a03)"
   ]
  },
  {
   "cell_type": "code",
   "execution_count": 29,
   "metadata": {
    "collapsed": true
   },
   "outputs": [],
   "source": [
    "full_data_a14[45]=\"a14\""
   ]
  },
  {
   "cell_type": "code",
   "execution_count": 30,
   "metadata": {
    "collapsed": true
   },
   "outputs": [],
   "source": [
    "full_data_a15=pd.DataFrame()\n",
    "\n",
    "for i in range(1, 9):\n",
    "    folder = os.listdir('C:/Users/tunes/Downloads/data/data/a15/p'+str(i))\n",
    "    #print(folder_file)\n",
    "    \n",
    "    for file in folder:\n",
    "        filepath = 'C:/Users/tunes/Downloads/data/data/a15/p'+str(i) + \"\\\\\" + file\n",
    "        #print(filepath)\n",
    "        data = pd.read_csv(filepath, header=None)\n",
    "        #full_data=np.array(data)\n",
    "        full_data_a15=full_data_a15.append(data)\n",
    "        #full_data_a15.reset_index(drop=True)\n",
    "        #print(full_data_a03)"
   ]
  },
  {
   "cell_type": "code",
   "execution_count": 31,
   "metadata": {
    "collapsed": true
   },
   "outputs": [],
   "source": [
    "full_data_a15[45]=\"a15\""
   ]
  },
  {
   "cell_type": "code",
   "execution_count": 32,
   "metadata": {
    "collapsed": true
   },
   "outputs": [],
   "source": [
    "full_data_a16=pd.DataFrame()\n",
    "\n",
    "for i in range(1, 9):\n",
    "    folder = os.listdir('C:/Users/tunes/Downloads/data/data/a16/p'+str(i))\n",
    "    #print(folder_file)\n",
    "    \n",
    "    for file in folder:\n",
    "        filepath = 'C:/Users/tunes/Downloads/data/data/a16/p'+str(i) + \"\\\\\" + file\n",
    "        #print(filepath)\n",
    "        data = pd.read_csv(filepath, header=None)\n",
    "        #full_data=np.array(data)\n",
    "        full_data_a16=full_data_a16.append(data)\n",
    "        #full_data_a16.reset_index(drop=True)\n",
    "        #print(full_data_a03)"
   ]
  },
  {
   "cell_type": "code",
   "execution_count": 33,
   "metadata": {
    "collapsed": true
   },
   "outputs": [],
   "source": [
    "full_data_a16[45]=\"a16\""
   ]
  },
  {
   "cell_type": "code",
   "execution_count": 34,
   "metadata": {
    "collapsed": true
   },
   "outputs": [],
   "source": [
    "full_data_a17=pd.DataFrame()\n",
    "\n",
    "for i in range(1, 9):\n",
    "    folder = os.listdir('C:/Users/tunes/Downloads/data/data/a17/p'+str(i))\n",
    "    #print(folder_file)\n",
    "    \n",
    "    for file in folder:\n",
    "        filepath = 'C:/Users/tunes/Downloads/data/data/a17/p'+str(i) + \"\\\\\" + file\n",
    "        #print(filepath)\n",
    "        data = pd.read_csv(filepath, header=None)\n",
    "        #full_data=np.array(data)\n",
    "        full_data_a17=full_data_a17.append(data)\n",
    "        #full_data_a17.reset_index(drop=True)\n",
    "        #print(full_data_a03)"
   ]
  },
  {
   "cell_type": "code",
   "execution_count": 35,
   "metadata": {
    "collapsed": true
   },
   "outputs": [],
   "source": [
    "full_data_a17[45]=\"a17\""
   ]
  },
  {
   "cell_type": "code",
   "execution_count": 36,
   "metadata": {
    "collapsed": true
   },
   "outputs": [],
   "source": [
    "full_data_a18=pd.DataFrame()\n",
    "\n",
    "for i in range(1, 9):\n",
    "    folder = os.listdir('C:/Users/tunes/Downloads/data/data/a18/p'+str(i))\n",
    "    #print(folder_file)\n",
    "    \n",
    "    for file in folder:\n",
    "        filepath = 'C:/Users/tunes/Downloads/data/data/a18/p'+str(i) + \"\\\\\" + file\n",
    "        #print(filepath)\n",
    "        data = pd.read_csv(filepath, header=None)\n",
    "        #full_data=np.array(data)\n",
    "        full_data_a18=full_data_a18.append(data)\n",
    "        #full_data_a18.reset_index(drop=True)\n",
    "#print(full_data_a18)"
   ]
  },
  {
   "cell_type": "code",
   "execution_count": 37,
   "metadata": {
    "collapsed": true
   },
   "outputs": [],
   "source": [
    "full_data_a18[45]=\"a18\""
   ]
  },
  {
   "cell_type": "code",
   "execution_count": 38,
   "metadata": {
    "collapsed": true
   },
   "outputs": [],
   "source": [
    "full_data_a19=pd.DataFrame()\n",
    "\n",
    "for i in range(1, 9):\n",
    "    folder = os.listdir('C:/Users/tunes/Downloads/data/data/a19/p'+str(i))\n",
    "    #print(folder_file)\n",
    "    \n",
    "    for file in folder:\n",
    "        filepath = 'C:/Users/tunes/Downloads/data/data/a19/p'+str(i) + \"\\\\\" + file\n",
    "        #print(filepath)\n",
    "        data = pd.read_csv(filepath, header=None)\n",
    "       # full_data=np.array(data)\n",
    "        full_data_a19=full_data_a19.append(data)\n",
    "        #full_data_a19.reset_index(drop=True)\n",
    "        #print(full_data_a03)"
   ]
  },
  {
   "cell_type": "code",
   "execution_count": 39,
   "metadata": {
    "collapsed": true
   },
   "outputs": [],
   "source": [
    "full_data_a19[45]=\"a19\""
   ]
  },
  {
   "cell_type": "code",
   "execution_count": 40,
   "metadata": {
    "collapsed": true
   },
   "outputs": [],
   "source": [
    "#adding all the data to make combined dataset\n",
    "full_list=[full_data_a01, full_data_a02, full_data_a03, full_data_a04, full_data_a05,\n",
    "           full_data_a06, full_data_a07, full_data_a08, full_data_a09, full_data_a10,\n",
    "           full_data_a11, full_data_a12, full_data_a13, full_data_a14, full_data_a15, \n",
    "           full_data_a16, full_data_a17, full_data_a18, full_data_a19]\n",
    "full_data=pd.concat(full_list)"
   ]
  },
  {
   "cell_type": "code",
   "execution_count": 41,
   "metadata": {
    "collapsed": true
   },
   "outputs": [],
   "source": [
    "#shuffling all the data\n",
    "shuffle_full_data=full_data.sample(frac=1, random_state=42)\n",
    "shuffle_full_data=shuffle_full_data.reset_index(drop=True)\n",
    "#(shuffle_full_data)"
   ]
  },
  {
   "cell_type": "code",
   "execution_count": 42,
   "metadata": {
    "collapsed": true
   },
   "outputs": [],
   "source": [
    "#renaming the features\n",
    "shuffle_full_data.rename(columns=lambda x: 'signal:' + str(x), inplace=True)\n",
    "#print(shuffle_full_data)"
   ]
  },
  {
   "cell_type": "markdown",
   "metadata": {},
   "source": [
    "shuffle_full_data=np.array(shuffle_full_data)\n",
    "shuffle_full_data=pd.DataFrame(shuffle_full_data)\n",
    "shuffle_full_data"
   ]
  },
  {
   "cell_type": "code",
   "execution_count": 57,
   "metadata": {
    "collapsed": true,
    "scrolled": true
   },
   "outputs": [],
   "source": [
    "#seperating lables from data set\n",
    "from sklearn.model_selection import train_test_split\n",
    "\n",
    "y=shuffle_full_data['signal:45']\n",
    "#y1=shuffle_full_data.apply(axis=1)\n",
    "#print(y1)\n",
    "#print(y)\n",
    "X=shuffle_full_data.drop(['signal:45'], axis=1)\n",
    "#print(X)\n",
    "#from sklearn.decomposition import PCA\n",
    "\n",
    "#pca = PCA(n_components=0.999)\n",
    "#X= pca.fit_transform(X)\n",
    "#X=pd.DataFrame(X)\n",
    "#print(X)"
   ]
  },
  {
   "cell_type": "code",
   "execution_count": 44,
   "metadata": {
    "collapsed": true
   },
   "outputs": [],
   "source": [
    "#splitting the data to test, train and validation dataset\n",
    "from sklearn.model_selection import train_test_split\n",
    "X_train, X_test_vali, y_train, y_test_vali = train_test_split(X, y, test_size=0.4, random_state=42)\n",
    "X_train=X_train.reset_index(drop=True)\n",
    "#X_test=X_test.reset_index(drop=True)\n",
    "y_train=y_train.reset_index(drop=True)\n",
    "#y_test=y_test.reset_index(drop=True)\n",
    "#print(X_train)\n",
    "#print(y_train)"
   ]
  },
  {
   "cell_type": "code",
   "execution_count": 61,
   "metadata": {
    "collapsed": true
   },
   "outputs": [],
   "source": [
    "from sklearn.model_selection import train_test_split\n",
    "X_test, X_vali, y_test, y_vali = train_test_split(X_test_vali, y_test_vali, test_size=0.5, random_state=42)\n",
    "X_test=X_test.reset_index(drop=True)\n",
    "X_vali=X_vali.reset_index(drop=True)\n",
    "y_test=y_test.reset_index(drop=True)\n",
    "y_vali=y_vali.reset_index(drop=True)"
   ]
  },
  {
   "cell_type": "code",
   "execution_count": 45,
   "metadata": {
    "collapsed": true
   },
   "outputs": [],
   "source": [
    "%matplotlib inline\n",
    "#log_data = np.log(X_train)"
   ]
  },
  {
   "cell_type": "code",
   "execution_count": 49,
   "metadata": {},
   "outputs": [
    {
     "data": {
      "image/png": "[encoded data removed]",
      "text/plain": [
       "<matplotlib.figure.Figure at 0x22f5eea0c88>"
      ]
     },
     "metadata": {},
     "output_type": "display_data"
    }
   ],
   "source": [
    "#visualizing the data\n",
    "import matplotlib.pyplot as plt\n",
    "#X_train.plot(kind='scatter', x='signal:1', y='signal:2')\n",
    "#X_train.plot(kind='hist')\n",
    "#X_train['signal:0','signal:1'].hist(bins=50, figsize=(20,15))\n",
    "X_train.hist(['signal:0','signal:1','signal:2','signal:3', 'signal:4','signal:5','signal:6','signal:7','signal:8',\n",
    "              'signal:9','signal:10','signal:11','signal:12','signal:13','signal:14','signal:15'],bins=50, figsize=(20,15))\n",
    "plt.show()"
   ]
  },
  {
   "cell_type": "code",
   "execution_count": 50,
   "metadata": {},
   "outputs": [
    {
     "data": {
      "image/png": "[encoded data removed]",
      "text/plain": [
       "<matplotlib.figure.Figure at 0x22f4db51ac8>"
      ]
     },
     "metadata": {},
     "output_type": "display_data"
    }
   ],
   "source": [
    "import matplotlib.pyplot as plt\n",
    "#X_train.plot(kind='scatter', x='signal:1', y='signal:2')\n",
    "#X_train.plot(kind='hist')\n",
    "X_train.hist(['signal:16','signal:17','signal:18', 'signal:19','signal:20','signal:21','signal:22','signal:23',\n",
    "              'signal:24','signal:25','signal:26','signal:27','signal:28','signal:29','signal:30'],bins=50, figsize=(20,15))\n",
    "plt.show()"
   ]
  },
  {
   "cell_type": "code",
   "execution_count": 51,
   "metadata": {},
   "outputs": [
    {
     "data": {
      "image/png": "[encoded data removed]",
      "text/plain": [
       "<matplotlib.figure.Figure at 0x22f4fd50860>"
      ]
     },
     "metadata": {},
     "output_type": "display_data"
    }
   ],
   "source": [
    "import matplotlib.pyplot as plt\n",
    "#X_train.plot(kind='scatter', x='signal:1', y='signal:2')\n",
    "#X_train.plot(kind='hist')\n",
    "X_train.hist(['signal:31','signal:32','signal:33', 'signal:34','signal:35','signal:36','signal:37','signal:38',\n",
    "              'signal:39','signal:40','signal:41','signal:42','signal:43','signal:44'],bins=50, figsize=(20,15))\n",
    "plt.show()"
   ]
  },
  {
   "cell_type": "code",
   "execution_count": 48,
   "metadata": {},
   "outputs": [
    {
     "data": {
      "text/plain": [
       "<matplotlib.axes._subplots.AxesSubplot at 0x166a152c6d8>"
      ]
     },
     "execution_count": 48,
     "metadata": {},
     "output_type": "execute_result"
    },
    {
     "data": {
      "image/png": "[encoded data removed]",
      "text/plain": [
       "<matplotlib.figure.Figure at 0x166a00ff940>"
      ]
     },
     "metadata": {},
     "output_type": "display_data"
    }
   ],
   "source": [
    "import seaborn as sns\n",
    "sns.heatmap(X_train.corr())"
   ]
  },
  {
   "cell_type": "code",
   "execution_count": 64,
   "metadata": {},
   "outputs": [
    {
     "data": {
      "text/html": [
       "<div>\n",
       "<style scoped>\n",
       "    .dataframe tbody tr th:only-of-type {\n",
       "        vertical-align: middle;\n",
       "    }\n",
       "\n",
       "    .dataframe tbody tr th {\n",
       "        vertical-align: top;\n",
       "    }\n",
       "\n",
       "    .dataframe thead th {\n",
       "        text-align: right;\n",
       "    }\n",
       "</style>\n",
       "<table border=\"1\" class=\"dataframe\">\n",
       "  <thead>\n",
       "    <tr style=\"text-align: right;\">\n",
       "      <th></th>\n",
       "      <th>signal:0</th>\n",
       "      <th>signal:1</th>\n",
       "      <th>signal:2</th>\n",
       "      <th>signal:3</th>\n",
       "      <th>signal:4</th>\n",
       "      <th>signal:5</th>\n",
       "      <th>signal:6</th>\n",
       "      <th>signal:7</th>\n",
       "      <th>signal:8</th>\n",
       "      <th>signal:9</th>\n",
       "      <th>...</th>\n",
       "      <th>signal:35</th>\n",
       "      <th>signal:36</th>\n",
       "      <th>signal:37</th>\n",
       "      <th>signal:38</th>\n",
       "      <th>signal:39</th>\n",
       "      <th>signal:40</th>\n",
       "      <th>signal:41</th>\n",
       "      <th>signal:42</th>\n",
       "      <th>signal:43</th>\n",
       "      <th>signal:44</th>\n",
       "    </tr>\n",
       "  </thead>\n",
       "  <tbody>\n",
       "    <tr>\n",
       "      <th>count</th>\n",
       "      <td>684000.000000</td>\n",
       "      <td>684000.000000</td>\n",
       "      <td>684000.000000</td>\n",
       "      <td>684000.000000</td>\n",
       "      <td>684000.000000</td>\n",
       "      <td>684000.000000</td>\n",
       "      <td>684000.000000</td>\n",
       "      <td>684000.000000</td>\n",
       "      <td>684000.000000</td>\n",
       "      <td>684000.000000</td>\n",
       "      <td>...</td>\n",
       "      <td>684000.000000</td>\n",
       "      <td>684000.000000</td>\n",
       "      <td>684000.000000</td>\n",
       "      <td>684000.000000</td>\n",
       "      <td>684000.000000</td>\n",
       "      <td>684000.000000</td>\n",
       "      <td>684000.000000</td>\n",
       "      <td>684000.000000</td>\n",
       "      <td>684000.000000</td>\n",
       "      <td>684000.000000</td>\n",
       "    </tr>\n",
       "    <tr>\n",
       "      <th>mean</th>\n",
       "      <td>7.771217</td>\n",
       "      <td>-0.813959</td>\n",
       "      <td>2.764321</td>\n",
       "      <td>-0.002886</td>\n",
       "      <td>0.013880</td>\n",
       "      <td>-0.002922</td>\n",
       "      <td>-0.598442</td>\n",
       "      <td>0.062061</td>\n",
       "      <td>-0.272073</td>\n",
       "      <td>4.262821</td>\n",
       "      <td>...</td>\n",
       "      <td>0.068788</td>\n",
       "      <td>-7.325531</td>\n",
       "      <td>-3.216674</td>\n",
       "      <td>-0.527061</td>\n",
       "      <td>-0.015147</td>\n",
       "      <td>0.027763</td>\n",
       "      <td>-0.002252</td>\n",
       "      <td>0.458157</td>\n",
       "      <td>0.295306</td>\n",
       "      <td>0.064271</td>\n",
       "    </tr>\n",
       "    <tr>\n",
       "      <th>std</th>\n",
       "      <td>5.648904</td>\n",
       "      <td>2.626084</td>\n",
       "      <td>3.531390</td>\n",
       "      <td>0.791566</td>\n",
       "      <td>0.688284</td>\n",
       "      <td>0.309799</td>\n",
       "      <td>0.356155</td>\n",
       "      <td>0.340486</td>\n",
       "      <td>0.373514</td>\n",
       "      <td>5.827527</td>\n",
       "      <td>...</td>\n",
       "      <td>0.361840</td>\n",
       "      <td>5.819935</td>\n",
       "      <td>5.921269</td>\n",
       "      <td>3.396548</td>\n",
       "      <td>0.868270</td>\n",
       "      <td>0.483475</td>\n",
       "      <td>1.159520</td>\n",
       "      <td>0.380142</td>\n",
       "      <td>0.384020</td>\n",
       "      <td>0.357565</td>\n",
       "    </tr>\n",
       "    <tr>\n",
       "      <th>min</th>\n",
       "      <td>-99.715000</td>\n",
       "      <td>-49.941000</td>\n",
       "      <td>-62.664000</td>\n",
       "      <td>-27.851000</td>\n",
       "      <td>-22.719000</td>\n",
       "      <td>-9.165100</td>\n",
       "      <td>-1.422600</td>\n",
       "      <td>-1.018300</td>\n",
       "      <td>-1.080600</td>\n",
       "      <td>-44.413000</td>\n",
       "      <td>...</td>\n",
       "      <td>-0.987580</td>\n",
       "      <td>-118.030000</td>\n",
       "      <td>-119.810000</td>\n",
       "      <td>-37.599000</td>\n",
       "      <td>-10.834000</td>\n",
       "      <td>-6.925800</td>\n",
       "      <td>-6.783000</td>\n",
       "      <td>-0.842980</td>\n",
       "      <td>-0.901760</td>\n",
       "      <td>-1.126000</td>\n",
       "    </tr>\n",
       "    <tr>\n",
       "      <th>25%</th>\n",
       "      <td>6.913300</td>\n",
       "      <td>-1.511400</td>\n",
       "      <td>0.895640</td>\n",
       "      <td>-0.163093</td>\n",
       "      <td>-0.102460</td>\n",
       "      <td>-0.097207</td>\n",
       "      <td>-0.824870</td>\n",
       "      <td>-0.178490</td>\n",
       "      <td>-0.601530</td>\n",
       "      <td>0.094773</td>\n",
       "      <td>...</td>\n",
       "      <td>-0.215120</td>\n",
       "      <td>-9.813100</td>\n",
       "      <td>-7.954800</td>\n",
       "      <td>-2.208900</td>\n",
       "      <td>-0.313730</td>\n",
       "      <td>-0.123600</td>\n",
       "      <td>-0.362502</td>\n",
       "      <td>0.292250</td>\n",
       "      <td>0.018286</td>\n",
       "      <td>-0.171743</td>\n",
       "    </tr>\n",
       "    <tr>\n",
       "      <th>50%</th>\n",
       "      <td>8.833100</td>\n",
       "      <td>-0.391650</td>\n",
       "      <td>2.702800</td>\n",
       "      <td>0.000379</td>\n",
       "      <td>0.017457</td>\n",
       "      <td>-0.002626</td>\n",
       "      <td>-0.689750</td>\n",
       "      <td>0.022681</td>\n",
       "      <td>-0.308660</td>\n",
       "      <td>4.143900</td>\n",
       "      <td>...</td>\n",
       "      <td>0.061985</td>\n",
       "      <td>-8.579400</td>\n",
       "      <td>-2.284050</td>\n",
       "      <td>-0.779595</td>\n",
       "      <td>-0.004345</td>\n",
       "      <td>0.000432</td>\n",
       "      <td>-0.000719</td>\n",
       "      <td>0.508510</td>\n",
       "      <td>0.351290</td>\n",
       "      <td>0.081650</td>\n",
       "    </tr>\n",
       "    <tr>\n",
       "      <th>75%</th>\n",
       "      <td>9.692000</td>\n",
       "      <td>0.413630</td>\n",
       "      <td>4.400700</td>\n",
       "      <td>0.164030</td>\n",
       "      <td>0.131180</td>\n",
       "      <td>0.089009</td>\n",
       "      <td>-0.492570</td>\n",
       "      <td>0.282452</td>\n",
       "      <td>0.041400</td>\n",
       "      <td>8.501400</td>\n",
       "      <td>...</td>\n",
       "      <td>0.335740</td>\n",
       "      <td>-2.676900</td>\n",
       "      <td>0.107650</td>\n",
       "      <td>0.401388</td>\n",
       "      <td>0.198140</td>\n",
       "      <td>0.142680</td>\n",
       "      <td>0.572222</td>\n",
       "      <td>0.690390</td>\n",
       "      <td>0.584723</td>\n",
       "      <td>0.298120</td>\n",
       "    </tr>\n",
       "    <tr>\n",
       "      <th>max</th>\n",
       "      <td>93.694000</td>\n",
       "      <td>33.422000</td>\n",
       "      <td>120.530000</td>\n",
       "      <td>20.229000</td>\n",
       "      <td>12.845000</td>\n",
       "      <td>18.209000</td>\n",
       "      <td>1.013900</td>\n",
       "      <td>1.030700</td>\n",
       "      <td>0.922650</td>\n",
       "      <td>71.652000</td>\n",
       "      <td>...</td>\n",
       "      <td>1.118200</td>\n",
       "      <td>16.665000</td>\n",
       "      <td>77.487000</td>\n",
       "      <td>60.968000</td>\n",
       "      <td>19.158000</td>\n",
       "      <td>8.918400</td>\n",
       "      <td>7.109000</td>\n",
       "      <td>1.374100</td>\n",
       "      <td>1.246600</td>\n",
       "      <td>1.042600</td>\n",
       "    </tr>\n",
       "  </tbody>\n",
       "</table>\n",
       "<p>8 rows × 45 columns</p>\n",
       "</div>"
      ],
      "text/plain": [
       "            signal:0       signal:1       signal:2       signal:3  \\\n",
       "count  684000.000000  684000.000000  684000.000000  684000.000000   \n",
       "mean        7.771217      -0.813959       2.764321      -0.002886   \n",
       "std         5.648904       2.626084       3.531390       0.791566   \n",
       "min       -99.715000     -49.941000     -62.664000     -27.851000   \n",
       "25%         6.913300      -1.511400       0.895640      -0.163093   \n",
       "50%         8.833100      -0.391650       2.702800       0.000379   \n",
       "75%         9.692000       0.413630       4.400700       0.164030   \n",
       "max        93.694000      33.422000     120.530000      20.229000   \n",
       "\n",
       "            signal:4       signal:5       signal:6       signal:7  \\\n",
       "count  684000.000000  684000.000000  684000.000000  684000.000000   \n",
       "mean        0.013880      -0.002922      -0.598442       0.062061   \n",
       "std         0.688284       0.309799       0.356155       0.340486   \n",
       "min       -22.719000      -9.165100      -1.422600      -1.018300   \n",
       "25%        -0.102460      -0.097207      -0.824870      -0.178490   \n",
       "50%         0.017457      -0.002626      -0.689750       0.022681   \n",
       "75%         0.131180       0.089009      -0.492570       0.282452   \n",
       "max        12.845000      18.209000       1.013900       1.030700   \n",
       "\n",
       "            signal:8       signal:9      ...            signal:35  \\\n",
       "count  684000.000000  684000.000000      ...        684000.000000   \n",
       "mean       -0.272073       4.262821      ...             0.068788   \n",
       "std         0.373514       5.827527      ...             0.361840   \n",
       "min        -1.080600     -44.413000      ...            -0.987580   \n",
       "25%        -0.601530       0.094773      ...            -0.215120   \n",
       "50%        -0.308660       4.143900      ...             0.061985   \n",
       "75%         0.041400       8.501400      ...             0.335740   \n",
       "max         0.922650      71.652000      ...             1.118200   \n",
       "\n",
       "           signal:36      signal:37      signal:38      signal:39  \\\n",
       "count  684000.000000  684000.000000  684000.000000  684000.000000   \n",
       "mean       -7.325531      -3.216674      -0.527061      -0.015147   \n",
       "std         5.819935       5.921269       3.396548       0.868270   \n",
       "min      -118.030000    -119.810000     -37.599000     -10.834000   \n",
       "25%        -9.813100      -7.954800      -2.208900      -0.313730   \n",
       "50%        -8.579400      -2.284050      -0.779595      -0.004345   \n",
       "75%        -2.676900       0.107650       0.401388       0.198140   \n",
       "max        16.665000      77.487000      60.968000      19.158000   \n",
       "\n",
       "           signal:40      signal:41      signal:42      signal:43  \\\n",
       "count  684000.000000  684000.000000  684000.000000  684000.000000   \n",
       "mean        0.027763      -0.002252       0.458157       0.295306   \n",
       "std         0.483475       1.159520       0.380142       0.384020   \n",
       "min        -6.925800      -6.783000      -0.842980      -0.901760   \n",
       "25%        -0.123600      -0.362502       0.292250       0.018286   \n",
       "50%         0.000432      -0.000719       0.508510       0.351290   \n",
       "75%         0.142680       0.572222       0.690390       0.584723   \n",
       "max         8.918400       7.109000       1.374100       1.246600   \n",
       "\n",
       "           signal:44  \n",
       "count  684000.000000  \n",
       "mean        0.064271  \n",
       "std         0.357565  \n",
       "min        -1.126000  \n",
       "25%        -0.171743  \n",
       "50%         0.081650  \n",
       "75%         0.298120  \n",
       "max         1.042600  \n",
       "\n",
       "[8 rows x 45 columns]"
      ]
     },
     "execution_count": 64,
     "metadata": {},
     "output_type": "execute_result"
    }
   ],
   "source": [
    "X_train.describe()"
   ]
  },
  {
   "cell_type": "code",
   "execution_count": 47,
   "metadata": {
    "collapsed": true
   },
   "outputs": [],
   "source": [
    "#finding correlation\n",
    "corr_matrix=shuffle_full_data.corr()\n",
    "#print(corr_matrix)"
   ]
  },
  {
   "cell_type": "code",
   "execution_count": 48,
   "metadata": {},
   "outputs": [
    {
     "data": {
      "text/plain": [
       "signal:0     1.000000\n",
       "signal:18    0.423691\n",
       "signal:9     0.364158\n",
       "signal:10    0.356560\n",
       "signal:37    0.237472\n",
       "signal:42    0.227881\n",
       "signal:33    0.204158\n",
       "signal:44    0.171500\n",
       "signal:20    0.160437\n",
       "signal:8     0.151512\n",
       "signal:29    0.112238\n",
       "signal:31    0.055039\n",
       "signal:1     0.053331\n",
       "signal:12    0.048172\n",
       "signal:34    0.037480\n",
       "signal:14    0.034178\n",
       "signal:17    0.028126\n",
       "signal:43    0.017940\n",
       "signal:30    0.011822\n",
       "signal:40    0.005747\n",
       "signal:5     0.003169\n",
       "signal:41    0.003104\n",
       "signal:13    0.002902\n",
       "signal:22    0.002250\n",
       "signal:25   -0.008943\n",
       "signal:32   -0.010404\n",
       "signal:39   -0.016636\n",
       "signal:3    -0.026773\n",
       "signal:23   -0.028966\n",
       "signal:21   -0.039254\n",
       "signal:2    -0.054986\n",
       "signal:16   -0.058686\n",
       "signal:4    -0.068504\n",
       "signal:11   -0.081775\n",
       "signal:15   -0.107909\n",
       "signal:26   -0.108220\n",
       "signal:24   -0.158758\n",
       "signal:35   -0.176774\n",
       "signal:7    -0.184529\n",
       "signal:38   -0.230327\n",
       "signal:19   -0.278485\n",
       "signal:28   -0.296134\n",
       "signal:6    -0.591016\n",
       "signal:27   -0.591404\n",
       "signal:36   -0.593010\n",
       "Name: signal:0, dtype: float64"
      ]
     },
     "execution_count": 48,
     "metadata": {},
     "output_type": "execute_result"
    }
   ],
   "source": [
    "corr_matrix['signal:0'].sort_values(ascending=False)"
   ]
  },
  {
   "cell_type": "code",
   "execution_count": 62,
   "metadata": {
    "collapsed": true
   },
   "outputs": [],
   "source": [
    "#applying minmax scaler \n",
    "from sklearn.preprocessing import MinMaxScaler\n",
    "scaler=MinMaxScaler()\n",
    "scaler.fit(X_train)\n",
    "X_train=pd.DataFrame(scaler.transform(X_train))\n",
    "\n",
    "#scaler.fit(good_X_train)\n",
    "#good_X_train=pd.DataFrame(scaler.transform(good_X_train))\n",
    "#print(X_train)\n",
    "scaler.fit(X_test)\n",
    "X_test=pd.DataFrame(scaler.transform(X_test))\n",
    "\n",
    "scaler.fit(X_vali)\n",
    "X_vali=pd.DataFrame(scaler.transform(X_vali))"
   ]
  },
  {
   "cell_type": "code",
   "execution_count": 63,
   "metadata": {
    "collapsed": true,
    "scrolled": false
   },
   "outputs": [],
   "source": [
    "#label encoding of all the labels\n",
    "from sklearn import preprocessing\n",
    "le = preprocessing.LabelEncoder()\n",
    "\n",
    "y_train=le.fit_transform(y_train)\n",
    "(y_train)=pd.DataFrame((y_train))\n",
    "#print(y_train)\n",
    "#y_sample=le.fit_transform(y_sample)\n",
    "#(y_sample)=pd.DataFrame(y_sample)\n",
    "#print(y_sample)\n",
    "#good_y_train=le.fit_transform(good_y_train)\n",
    "#(good_y_train)=pd.DataFrame((good_y_train))\n",
    "y_test=le.fit_transform(y_test)\n",
    "(y_test)=pd.DataFrame(y_test)\n",
    "\n",
    "y_vali=le.fit_transform(y_vali)\n",
    "(y_vali)=pd.DataFrame(y_vali)"
   ]
  },
  {
   "cell_type": "code",
   "execution_count": null,
   "metadata": {
    "collapsed": true,
    "scrolled": true
   },
   "outputs": [],
   "source": [
    "#applying PCA for dimensionality reduction\n",
    "from sklearn.decomposition import PCA\n",
    "\n",
    "pca = PCA(n_components=0.97)\n",
    "X_reduced_train = pca.fit_transform(X_train)\n",
    "X_reduced_train=pd.DataFrame(X_reduced_train)\n",
    "#print(X_reduced_train)\n",
    "\n",
    "X_reduced_test = pca.fit_transform(X_test)\n",
    "X_reduced_test=pd.DataFrame(X_reduced_test)\n",
    "#print(X_reduced_test)"
   ]
  },
  {
   "cell_type": "code",
   "execution_count": null,
   "metadata": {},
   "outputs": [
    {
     "name": "stderr",
     "output_type": "stream",
     "text": [
      "D:\\Softwares\\Anaconda3\\lib\\site-packages\\ipykernel_launcher.py:7: DataConversionWarning: A column-vector y was passed when a 1d array was expected. Please change the shape of y to (n_samples, ), for example using ravel().\n",
      "  import sys\n"
     ]
    }
   ],
   "source": [
    "# KNeighborsClassifier algorithm \n",
    "from sklearn.metrics import accuracy_score\n",
    "from sklearn.neighbors import KNeighborsClassifier\n",
    "from sklearn.model_selection import GridSearchCV\n",
    "\n",
    "clf = KNeighborsClassifier()\n",
    "\n",
    "clf.fit(X_train, y_train) \n",
    "\n",
    "pred=clf.predict(X_test)\n",
    "\n",
    "#from sklearn.model_selection import cross_val_score\n",
    "#scores = cross_val_score(neigh, X_train, y_train, cv=10)\n",
    "#rmse_scores = np.sqrt(-scores)\n",
    "#print(rmse_scores)\n",
    "\n",
    "acc=accuracy_score(y_test, pred)\n",
    "print(acc)\n"
   ]
  },
  {
   "cell_type": "code",
   "execution_count": null,
   "metadata": {
    "collapsed": true
   },
   "outputs": [],
   "source": [
    "#f1_score\n",
    "from sklearn.metrics import f1_score\n",
    "\n",
    "f1_score(y_test, pred, average='macro')"
   ]
  },
  {
   "cell_type": "code",
   "execution_count": 50,
   "metadata": {},
   "outputs": [
    {
     "name": "stderr",
     "output_type": "stream",
     "text": [
      "D:\\Softwares\\Anaconda3\\lib\\site-packages\\sklearn\\utils\\validation.py:578: DataConversionWarning: A column-vector y was passed when a 1d array was expected. Please change the shape of y to (n_samples, ), for example using ravel().\n",
      "  y = column_or_1d(y, warn=True)\n"
     ]
    },
    {
     "name": "stdout",
     "output_type": "stream",
     "text": [
      "0.104391812865\n"
     ]
    }
   ],
   "source": [
    "#applying gaussianNB \n",
    "from sklearn.naive_bayes import GaussianNB\n",
    "from sklearn.metrics import accuracy_score\n",
    "\n",
    "clf = GaussianNB()\n",
    "clf.fit(X_train, y_train)\n",
    "pred=clf.predict(X_test)\n",
    "\n",
    "acc=accuracy_score(y_test, pred)\n",
    "print(acc)\n",
    "\n"
   ]
  },
  {
   "cell_type": "code",
   "execution_count": 51,
   "metadata": {},
   "outputs": [
    {
     "name": "stderr",
     "output_type": "stream",
     "text": [
      "D:\\Softwares\\Anaconda3\\lib\\site-packages\\sklearn\\metrics\\classification.py:1135: UndefinedMetricWarning: F-score is ill-defined and being set to 0.0 in labels with no predicted samples.\n",
      "  'precision', 'predicted', average, warn_for)\n"
     ]
    },
    {
     "data": {
      "text/plain": [
       "0.036946706745924318"
      ]
     },
     "execution_count": 51,
     "metadata": {},
     "output_type": "execute_result"
    }
   ],
   "source": [
    "from sklearn.metrics import f1_score\n",
    "\n",
    "f1_score(y_test, pred, average='macro')"
   ]
  },
  {
   "cell_type": "code",
   "execution_count": 58,
   "metadata": {
    "scrolled": true
   },
   "outputs": [
    {
     "name": "stdout",
     "output_type": "stream",
     "text": [
      "WARNING:tensorflow:float64 is not supported by many models, consider casting to float32.\n",
      "INFO:tensorflow:Using default config.\n",
      "WARNING:tensorflow:Using temporary folder as model directory: C:\\Users\\tunes\\AppData\\Local\\Temp\\tmps6au2t9t\n",
      "INFO:tensorflow:Using config: {'_task_type': None, '_task_id': 0, '_cluster_spec': <tensorflow.python.training.server_lib.ClusterSpec object at 0x000001E7FE87ECC0>, '_master': '', '_num_ps_replicas': 0, '_num_worker_replicas': 0, '_environment': 'local', '_is_chief': True, '_evaluation_master': '', '_tf_config': gpu_options {\n",
      "  per_process_gpu_memory_fraction: 1\n",
      "}\n",
      ", '_tf_random_seed': None, '_save_summary_steps': 100, '_save_checkpoints_secs': 600, '_session_config': None, '_save_checkpoints_steps': None, '_keep_checkpoint_max': 5, '_keep_checkpoint_every_n_hours': 10000, '_model_dir': 'C:\\\\Users\\\\tunes\\\\AppData\\\\Local\\\\Temp\\\\tmps6au2t9t'}\n",
      "WARNING:tensorflow:From <ipython-input-58-f139443a3a54>:8: calling BaseEstimator.fit (from tensorflow.contrib.learn.python.learn.estimators.estimator) with x is deprecated and will be removed after 2016-12-01.\n",
      "Instructions for updating:\n",
      "Estimator is decoupled from Scikit Learn interface by moving into\n",
      "separate class SKCompat. Arguments x, y and batch_size are only\n",
      "available in the SKCompat class, Estimator will only accept input_fn.\n",
      "Example conversion:\n",
      "  est = Estimator(...) -> est = SKCompat(Estimator(...))\n",
      "WARNING:tensorflow:From <ipython-input-58-f139443a3a54>:8: calling BaseEstimator.fit (from tensorflow.contrib.learn.python.learn.estimators.estimator) with y is deprecated and will be removed after 2016-12-01.\n",
      "Instructions for updating:\n",
      "Estimator is decoupled from Scikit Learn interface by moving into\n",
      "separate class SKCompat. Arguments x, y and batch_size are only\n",
      "available in the SKCompat class, Estimator will only accept input_fn.\n",
      "Example conversion:\n",
      "  est = Estimator(...) -> est = SKCompat(Estimator(...))\n",
      "WARNING:tensorflow:From <ipython-input-58-f139443a3a54>:8: calling BaseEstimator.fit (from tensorflow.contrib.learn.python.learn.estimators.estimator) with batch_size is deprecated and will be removed after 2016-12-01.\n",
      "Instructions for updating:\n",
      "Estimator is decoupled from Scikit Learn interface by moving into\n",
      "separate class SKCompat. Arguments x, y and batch_size are only\n",
      "available in the SKCompat class, Estimator will only accept input_fn.\n",
      "Example conversion:\n",
      "  est = Estimator(...) -> est = SKCompat(Estimator(...))\n",
      "WARNING:tensorflow:float64 is not supported by many models, consider casting to float32.\n",
      "WARNING:tensorflow:From D:\\Softwares\\Anaconda3\\lib\\site-packages\\tensorflow\\contrib\\learn\\python\\learn\\estimators\\head.py:625: scalar_summary (from tensorflow.python.ops.logging_ops) is deprecated and will be removed after 2016-11-30.\n",
      "Instructions for updating:\n",
      "Please switch to tf.summary.scalar. Note that tf.summary.scalar uses the node name instead of the tag. This means that TensorFlow will automatically de-duplicate summary names based on the scope they are created in. Also, passing a tensor or list of tags to a scalar summary op is no longer supported.\n",
      "INFO:tensorflow:Create CheckpointSaverHook.\n",
      "INFO:tensorflow:Saving checkpoints for 1 into C:\\Users\\tunes\\AppData\\Local\\Temp\\tmps6au2t9t\\model.ckpt.\n",
      "INFO:tensorflow:loss = 2.95101, step = 1\n",
      "INFO:tensorflow:global_step/sec: 29.5586\n",
      "INFO:tensorflow:loss = 2.4722, step = 101 (3.383 sec)\n",
      "INFO:tensorflow:global_step/sec: 27.583\n",
      "INFO:tensorflow:loss = 1.97654, step = 201 (3.630 sec)\n",
      "INFO:tensorflow:global_step/sec: 28.8955\n",
      "INFO:tensorflow:loss = 1.84962, step = 301 (3.471 sec)\n",
      "INFO:tensorflow:global_step/sec: 27.6988\n",
      "INFO:tensorflow:loss = 1.44236, step = 401 (3.610 sec)\n",
      "INFO:tensorflow:global_step/sec: 29.7025\n",
      "INFO:tensorflow:loss = 1.38417, step = 501 (3.367 sec)\n",
      "INFO:tensorflow:global_step/sec: 27.7202\n",
      "INFO:tensorflow:loss = 1.17605, step = 601 (3.592 sec)\n",
      "INFO:tensorflow:global_step/sec: 28.09\n",
      "INFO:tensorflow:loss = 0.711797, step = 701 (3.560 sec)\n",
      "INFO:tensorflow:global_step/sec: 26.7991\n",
      "INFO:tensorflow:loss = 0.820006, step = 801 (3.731 sec)\n",
      "INFO:tensorflow:global_step/sec: 28.1135\n",
      "INFO:tensorflow:loss = 0.6981, step = 901 (3.566 sec)\n",
      "INFO:tensorflow:global_step/sec: 26.3398\n",
      "INFO:tensorflow:loss = 0.580425, step = 1001 (3.788 sec)\n",
      "INFO:tensorflow:global_step/sec: 29.5276\n",
      "INFO:tensorflow:loss = 0.623384, step = 1101 (3.387 sec)\n",
      "INFO:tensorflow:global_step/sec: 26.035\n",
      "INFO:tensorflow:loss = 0.587487, step = 1201 (3.841 sec)\n",
      "INFO:tensorflow:global_step/sec: 27.717\n",
      "INFO:tensorflow:loss = 0.653401, step = 1301 (3.624 sec)\n",
      "INFO:tensorflow:global_step/sec: 25.2054\n",
      "INFO:tensorflow:loss = 0.434489, step = 1401 (3.952 sec)\n",
      "INFO:tensorflow:global_step/sec: 25.1186\n",
      "INFO:tensorflow:loss = 2.33944, step = 1501 (3.981 sec)\n",
      "INFO:tensorflow:global_step/sec: 25.9262\n",
      "INFO:tensorflow:loss = 0.659543, step = 1601 (3.857 sec)\n",
      "INFO:tensorflow:global_step/sec: 27.412\n",
      "INFO:tensorflow:loss = 0.809526, step = 1701 (3.664 sec)\n",
      "INFO:tensorflow:global_step/sec: 24.9664\n",
      "INFO:tensorflow:loss = 0.646849, step = 1801 (4.005 sec)\n",
      "INFO:tensorflow:global_step/sec: 24.9198\n",
      "INFO:tensorflow:loss = 0.472774, step = 1901 (3.997 sec)\n",
      "INFO:tensorflow:global_step/sec: 25.0111\n",
      "INFO:tensorflow:loss = 0.657148, step = 2001 (4.018 sec)\n",
      "INFO:tensorflow:global_step/sec: 24.7746\n",
      "INFO:tensorflow:loss = 0.561037, step = 2101 (4.027 sec)\n",
      "INFO:tensorflow:global_step/sec: 23.605\n",
      "INFO:tensorflow:loss = 0.433144, step = 2201 (4.232 sec)\n",
      "INFO:tensorflow:global_step/sec: 25.2663\n",
      "INFO:tensorflow:loss = 0.191472, step = 2301 (3.952 sec)\n",
      "INFO:tensorflow:global_step/sec: 25.1921\n",
      "INFO:tensorflow:loss = 0.490053, step = 2401 (3.976 sec)\n",
      "INFO:tensorflow:global_step/sec: 24.8615\n",
      "INFO:tensorflow:loss = 0.207406, step = 2501 (4.016 sec)\n",
      "INFO:tensorflow:global_step/sec: 25.1733\n",
      "INFO:tensorflow:loss = 0.660755, step = 2601 (3.972 sec)\n",
      "INFO:tensorflow:global_step/sec: 25.2054\n",
      "INFO:tensorflow:loss = 0.432613, step = 2701 (3.983 sec)\n",
      "INFO:tensorflow:global_step/sec: 24.8126\n",
      "INFO:tensorflow:loss = 0.26686, step = 2801 (4.015 sec)\n",
      "INFO:tensorflow:global_step/sec: 25.0696\n",
      "INFO:tensorflow:loss = 0.280683, step = 2901 (3.989 sec)\n",
      "INFO:tensorflow:global_step/sec: 25.3432\n",
      "INFO:tensorflow:loss = 0.469194, step = 3001 (3.961 sec)\n",
      "INFO:tensorflow:global_step/sec: 25.2207\n",
      "INFO:tensorflow:loss = 0.282361, step = 3101 (4.099 sec)\n",
      "INFO:tensorflow:global_step/sec: 23.8383\n",
      "INFO:tensorflow:loss = 0.334607, step = 3201 (4.050 sec)\n",
      "INFO:tensorflow:global_step/sec: 25.3291\n",
      "INFO:tensorflow:loss = 0.351555, step = 3301 (3.943 sec)\n",
      "INFO:tensorflow:global_step/sec: 25.2179\n",
      "INFO:tensorflow:loss = 0.377248, step = 3401 (3.965 sec)\n",
      "INFO:tensorflow:global_step/sec: 25.1972\n",
      "INFO:tensorflow:loss = 0.273568, step = 3501 (3.984 sec)\n",
      "INFO:tensorflow:global_step/sec: 24.8865\n",
      "INFO:tensorflow:loss = 0.212549, step = 3601 (4.003 sec)\n",
      "INFO:tensorflow:global_step/sec: 25.259\n",
      "INFO:tensorflow:loss = 0.337857, step = 3701 (3.967 sec)\n",
      "INFO:tensorflow:global_step/sec: 25.3104\n",
      "INFO:tensorflow:loss = 0.412261, step = 3801 (3.943 sec)\n",
      "INFO:tensorflow:global_step/sec: 24.6215\n",
      "INFO:tensorflow:loss = 0.268336, step = 3901 (4.061 sec)\n",
      "INFO:tensorflow:global_step/sec: 24.8222\n",
      "INFO:tensorflow:loss = 0.401793, step = 4001 (4.044 sec)\n",
      "INFO:tensorflow:global_step/sec: 25.1666\n",
      "INFO:tensorflow:loss = 0.352949, step = 4101 (3.958 sec)\n",
      "INFO:tensorflow:global_step/sec: 24.9826\n",
      "INFO:tensorflow:loss = 0.129555, step = 4201 (4.003 sec)\n",
      "INFO:tensorflow:global_step/sec: 24.7606\n",
      "INFO:tensorflow:loss = 0.260316, step = 4301 (4.039 sec)\n",
      "INFO:tensorflow:global_step/sec: 25.015\n",
      "INFO:tensorflow:loss = 0.199743, step = 4401 (4.013 sec)\n",
      "INFO:tensorflow:global_step/sec: 24.8967\n",
      "INFO:tensorflow:loss = 0.337807, step = 4501 (4.017 sec)\n",
      "INFO:tensorflow:global_step/sec: 25.1874\n",
      "INFO:tensorflow:loss = 0.0890022, step = 4601 (3.960 sec)\n",
      "INFO:tensorflow:global_step/sec: 24.9619\n",
      "INFO:tensorflow:loss = 0.116695, step = 4701 (4.001 sec)\n",
      "INFO:tensorflow:global_step/sec: 25.197\n",
      "INFO:tensorflow:loss = 0.153485, step = 4801 (3.975 sec)\n",
      "INFO:tensorflow:global_step/sec: 25.3353\n",
      "INFO:tensorflow:loss = 0.195485, step = 4901 (3.957 sec)\n",
      "INFO:tensorflow:global_step/sec: 25.0095\n",
      "INFO:tensorflow:loss = 0.34459, step = 5001 (3.988 sec)\n",
      "INFO:tensorflow:global_step/sec: 24.4889\n",
      "INFO:tensorflow:loss = 0.047042, step = 5101 (4.078 sec)\n"
     ]
    },
    {
     "name": "stdout",
     "output_type": "stream",
     "text": [
      "INFO:tensorflow:global_step/sec: 25.1573\n",
      "INFO:tensorflow:loss = 0.167061, step = 5201 (3.991 sec)\n",
      "INFO:tensorflow:global_step/sec: 25.0608\n",
      "INFO:tensorflow:loss = 0.167186, step = 5301 (3.975 sec)\n",
      "INFO:tensorflow:global_step/sec: 25.2353\n",
      "INFO:tensorflow:loss = 0.448733, step = 5401 (3.978 sec)\n",
      "INFO:tensorflow:global_step/sec: 24.9502\n",
      "INFO:tensorflow:loss = 0.34929, step = 5501 (4.012 sec)\n",
      "INFO:tensorflow:global_step/sec: 25.2781\n",
      "INFO:tensorflow:loss = 0.137581, step = 5601 (3.952 sec)\n",
      "INFO:tensorflow:global_step/sec: 25.1863\n",
      "INFO:tensorflow:loss = 0.083464, step = 5701 (3.955 sec)\n",
      "INFO:tensorflow:global_step/sec: 24.7178\n",
      "INFO:tensorflow:loss = 0.336027, step = 5801 (4.046 sec)\n",
      "INFO:tensorflow:global_step/sec: 21.886\n",
      "INFO:tensorflow:loss = 0.207975, step = 5901 (4.576 sec)\n",
      "INFO:tensorflow:global_step/sec: 25.2672\n",
      "INFO:tensorflow:loss = 0.11096, step = 6001 (3.966 sec)\n",
      "INFO:tensorflow:global_step/sec: 25.314\n",
      "INFO:tensorflow:loss = 0.251335, step = 6101 (4.077 sec)\n",
      "INFO:tensorflow:global_step/sec: 23.8787\n",
      "INFO:tensorflow:loss = 0.133797, step = 6201 (4.046 sec)\n",
      "INFO:tensorflow:global_step/sec: 25.3113\n",
      "INFO:tensorflow:loss = 0.312832, step = 6301 (3.951 sec)\n",
      "INFO:tensorflow:global_step/sec: 25.3085\n",
      "INFO:tensorflow:loss = 0.290083, step = 6401 (3.951 sec)\n",
      "INFO:tensorflow:global_step/sec: 25.1003\n",
      "INFO:tensorflow:loss = 0.18825, step = 6501 (3.984 sec)\n",
      "INFO:tensorflow:global_step/sec: 25.0194\n",
      "INFO:tensorflow:loss = 0.17016, step = 6601 (4.013 sec)\n",
      "INFO:tensorflow:global_step/sec: 25.2013\n",
      "INFO:tensorflow:loss = 0.403946, step = 6701 (3.952 sec)\n",
      "INFO:tensorflow:global_step/sec: 25.3163\n",
      "INFO:tensorflow:loss = 0.0764638, step = 6801 (3.966 sec)\n",
      "INFO:tensorflow:global_step/sec: 24.4536\n",
      "INFO:tensorflow:loss = 0.230999, step = 6901 (4.074 sec)\n",
      "INFO:tensorflow:global_step/sec: 24.9545\n",
      "INFO:tensorflow:loss = 0.24005, step = 7001 (4.012 sec)\n",
      "INFO:tensorflow:global_step/sec: 25.3428\n",
      "INFO:tensorflow:loss = 0.14136, step = 7101 (3.957 sec)\n",
      "INFO:tensorflow:global_step/sec: 25.1719\n",
      "INFO:tensorflow:loss = 0.205057, step = 7201 (3.957 sec)\n",
      "INFO:tensorflow:global_step/sec: 24.9497\n",
      "INFO:tensorflow:loss = 0.174801, step = 7301 (4.024 sec)\n",
      "INFO:tensorflow:global_step/sec: 25.1742\n",
      "INFO:tensorflow:loss = 0.323408, step = 7401 (3.962 sec)\n",
      "INFO:tensorflow:global_step/sec: 25.2427\n",
      "INFO:tensorflow:loss = 0.163159, step = 7501 (3.972 sec)\n",
      "INFO:tensorflow:global_step/sec: 25.0672\n",
      "INFO:tensorflow:loss = 0.0479717, step = 7601 (3.979 sec)\n",
      "INFO:tensorflow:global_step/sec: 24.8628\n",
      "INFO:tensorflow:loss = 0.138999, step = 7701 (4.017 sec)\n",
      "INFO:tensorflow:global_step/sec: 25.1977\n",
      "INFO:tensorflow:loss = 0.157036, step = 7801 (3.984 sec)\n",
      "INFO:tensorflow:global_step/sec: 25.2113\n",
      "INFO:tensorflow:loss = 0.123775, step = 7901 (3.951 sec)\n",
      "INFO:tensorflow:global_step/sec: 25.2009\n",
      "INFO:tensorflow:loss = 0.101255, step = 8001 (3.968 sec)\n",
      "INFO:tensorflow:global_step/sec: 25.0158\n",
      "INFO:tensorflow:loss = 0.0134559, step = 8101 (3.997 sec)\n",
      "INFO:tensorflow:global_step/sec: 25.1979\n",
      "INFO:tensorflow:loss = 0.28037, step = 8201 (3.984 sec)\n",
      "INFO:tensorflow:global_step/sec: 25.25\n",
      "INFO:tensorflow:loss = 0.0723521, step = 8301 (3.945 sec)\n",
      "INFO:tensorflow:global_step/sec: 25.1738\n",
      "INFO:tensorflow:loss = 0.0678438, step = 8401 (3.988 sec)\n",
      "INFO:tensorflow:global_step/sec: 24.965\n",
      "INFO:tensorflow:loss = 0.0175397, step = 8501 (4.006 sec)\n",
      "INFO:tensorflow:global_step/sec: 25.2595\n",
      "INFO:tensorflow:loss = 0.176915, step = 8601 (3.959 sec)\n",
      "INFO:tensorflow:global_step/sec: 25.1792\n",
      "INFO:tensorflow:loss = 0.1179, step = 8701 (3.956 sec)\n",
      "INFO:tensorflow:global_step/sec: 24.5538\n",
      "INFO:tensorflow:loss = 0.107418, step = 8801 (4.088 sec)\n",
      "INFO:tensorflow:global_step/sec: 25.3106\n",
      "INFO:tensorflow:loss = 0.182137, step = 8901 (3.935 sec)\n",
      "INFO:tensorflow:global_step/sec: 25.2015\n",
      "INFO:tensorflow:loss = 0.255887, step = 9001 (3.968 sec)\n",
      "INFO:tensorflow:global_step/sec: 25.185\n",
      "INFO:tensorflow:loss = 0.0541092, step = 9101 (3.986 sec)\n",
      "INFO:tensorflow:global_step/sec: 25.0446\n",
      "INFO:tensorflow:loss = 0.0685259, step = 9201 (4.118 sec)\n",
      "INFO:tensorflow:global_step/sec: 24.1787\n",
      "INFO:tensorflow:loss = 0.0881443, step = 9301 (4.000 sec)\n",
      "INFO:tensorflow:global_step/sec: 25.262\n",
      "INFO:tensorflow:loss = 0.0971506, step = 9401 (3.954 sec)\n",
      "INFO:tensorflow:global_step/sec: 25.0357\n",
      "INFO:tensorflow:loss = 0.154335, step = 9501 (4.000 sec)\n",
      "INFO:tensorflow:global_step/sec: 24.8017\n",
      "INFO:tensorflow:loss = 0.121727, step = 9601 (4.026 sec)\n",
      "INFO:tensorflow:global_step/sec: 23.8879\n",
      "INFO:tensorflow:loss = 0.121169, step = 9701 (4.202 sec)\n",
      "INFO:tensorflow:global_step/sec: 25.2176\n",
      "INFO:tensorflow:loss = 0.256657, step = 9801 (3.955 sec)\n",
      "INFO:tensorflow:global_step/sec: 24.5907\n",
      "INFO:tensorflow:loss = 0.0966753, step = 9901 (4.077 sec)\n",
      "INFO:tensorflow:global_step/sec: 24.8315\n",
      "INFO:tensorflow:loss = 0.103522, step = 10001 (4.012 sec)\n",
      "INFO:tensorflow:global_step/sec: 25.1203\n",
      "INFO:tensorflow:loss = 0.184771, step = 10101 (3.981 sec)\n",
      "INFO:tensorflow:global_step/sec: 25.2029\n",
      "INFO:tensorflow:loss = 0.0689385, step = 10201 (3.968 sec)\n",
      "INFO:tensorflow:global_step/sec: 24.8553\n",
      "INFO:tensorflow:loss = 0.0435677, step = 10301 (4.023 sec)\n",
      "INFO:tensorflow:global_step/sec: 25.0616\n",
      "INFO:tensorflow:loss = 0.108281, step = 10401 (3.990 sec)\n",
      "INFO:tensorflow:global_step/sec: 25.2681\n",
      "INFO:tensorflow:loss = 0.106878, step = 10501 (3.958 sec)\n",
      "INFO:tensorflow:global_step/sec: 25.2582\n",
      "INFO:tensorflow:loss = 0.121979, step = 10601 (3.959 sec)\n",
      "INFO:tensorflow:global_step/sec: 24.9069\n",
      "INFO:tensorflow:loss = 0.0587992, step = 10701 (4.015 sec)\n",
      "INFO:tensorflow:global_step/sec: 25.3022\n",
      "INFO:tensorflow:loss = 0.0318331, step = 10801 (3.952 sec)\n",
      "INFO:tensorflow:global_step/sec: 25.2704\n",
      "INFO:tensorflow:loss = 0.0941733, step = 10901 (3.957 sec)\n",
      "INFO:tensorflow:global_step/sec: 25.1556\n",
      "INFO:tensorflow:loss = 0.0247535, step = 11001 (3.991 sec)\n",
      "INFO:tensorflow:global_step/sec: 24.9102\n",
      "INFO:tensorflow:loss = 0.051935, step = 11101 (3.999 sec)\n",
      "INFO:tensorflow:global_step/sec: 25.298\n",
      "INFO:tensorflow:loss = 0.0912849, step = 11201 (3.969 sec)\n",
      "INFO:tensorflow:global_step/sec: 24.9175\n",
      "INFO:tensorflow:loss = 0.102984, step = 11301 (4.016 sec)\n",
      "INFO:tensorflow:global_step/sec: 24.8176\n",
      "INFO:tensorflow:loss = 0.0992971, step = 11401 (4.011 sec)\n",
      "INFO:tensorflow:global_step/sec: 25.0155\n",
      "INFO:tensorflow:loss = 0.00443811, step = 11501 (4.013 sec)\n",
      "INFO:tensorflow:global_step/sec: 25.2515\n",
      "INFO:tensorflow:loss = 0.0786083, step = 11601 (3.945 sec)\n",
      "INFO:tensorflow:global_step/sec: 25.1561\n",
      "INFO:tensorflow:loss = 0.126434, step = 11701 (3.975 sec)\n",
      "INFO:tensorflow:global_step/sec: 24.9018\n",
      "INFO:tensorflow:loss = 0.106339, step = 11801 (4.016 sec)\n",
      "INFO:tensorflow:global_step/sec: 25.2204\n",
      "INFO:tensorflow:loss = 0.130481, step = 11901 (3.965 sec)\n",
      "INFO:tensorflow:global_step/sec: 23.8004\n",
      "INFO:tensorflow:loss = 0.124956, step = 12001 (4.202 sec)\n",
      "INFO:tensorflow:global_step/sec: 23.9785\n",
      "INFO:tensorflow:loss = 0.0192486, step = 12101 (4.170 sec)\n",
      "INFO:tensorflow:global_step/sec: 24.4362\n",
      "INFO:tensorflow:loss = 0.117398, step = 12201 (4.237 sec)\n",
      "INFO:tensorflow:global_step/sec: 23.9723\n",
      "INFO:tensorflow:loss = 0.0517909, step = 12301 (4.042 sec)\n",
      "INFO:tensorflow:global_step/sec: 24.8126\n",
      "INFO:tensorflow:loss = 0.0446521, step = 12401 (4.030 sec)\n",
      "INFO:tensorflow:global_step/sec: 25.1121\n",
      "INFO:tensorflow:loss = 0.0922968, step = 12501 (3.967 sec)\n",
      "INFO:tensorflow:global_step/sec: 24.5261\n",
      "INFO:tensorflow:loss = 0.0987627, step = 12601 (4.077 sec)\n",
      "INFO:tensorflow:global_step/sec: 25.2164\n",
      "INFO:tensorflow:loss = 0.0883736, step = 12701 (3.966 sec)\n",
      "INFO:tensorflow:global_step/sec: 25.0056\n",
      "INFO:tensorflow:loss = 0.0705108, step = 12801 (3.999 sec)\n",
      "INFO:tensorflow:global_step/sec: 24.2414\n",
      "INFO:tensorflow:loss = 0.0844604, step = 12901 (4.125 sec)\n",
      "INFO:tensorflow:global_step/sec: 25.1196\n",
      "INFO:tensorflow:loss = 0.120811, step = 13001 (3.997 sec)\n",
      "INFO:tensorflow:global_step/sec: 24.9068\n",
      "INFO:tensorflow:loss = 0.051478, step = 13101 (4.015 sec)\n",
      "INFO:tensorflow:global_step/sec: 25.1096\n",
      "INFO:tensorflow:loss = 0.0613659, step = 13201 (3.983 sec)\n",
      "INFO:tensorflow:global_step/sec: 24.9101\n",
      "INFO:tensorflow:loss = 0.0400984, step = 13301 (3.999 sec)\n",
      "INFO:tensorflow:global_step/sec: 25.218\n",
      "INFO:tensorflow:loss = 0.0817982, step = 13401 (3.965 sec)\n",
      "INFO:tensorflow:global_step/sec: 25.3003\n"
     ]
    },
    {
     "name": "stdout",
     "output_type": "stream",
     "text": [
      "INFO:tensorflow:loss = 0.154268, step = 13501 (3.968 sec)\n",
      "INFO:tensorflow:global_step/sec: 25.1147\n",
      "INFO:tensorflow:loss = 0.0960025, step = 13601 (3.966 sec)\n",
      "INFO:tensorflow:global_step/sec: 24.8164\n",
      "INFO:tensorflow:loss = 0.183931, step = 13701 (4.045 sec)\n",
      "INFO:tensorflow:global_step/sec: 25.2133\n",
      "INFO:tensorflow:loss = 0.0878399, step = 13801 (3.970 sec)\n",
      "INFO:tensorflow:global_step/sec: 25.1964\n",
      "INFO:tensorflow:loss = 0.0649121, step = 13901 (3.949 sec)\n",
      "INFO:tensorflow:global_step/sec: 25.1164\n",
      "INFO:tensorflow:loss = 0.108299, step = 14001 (4.005 sec)\n",
      "INFO:tensorflow:global_step/sec: 24.9344\n",
      "INFO:tensorflow:loss = 0.119648, step = 14101 (3.987 sec)\n",
      "INFO:tensorflow:global_step/sec: 25.2143\n",
      "INFO:tensorflow:loss = 0.0371042, step = 14201 (3.982 sec)\n",
      "INFO:tensorflow:global_step/sec: 25.1738\n",
      "INFO:tensorflow:loss = 0.048866, step = 14301 (3.957 sec)\n",
      "INFO:tensorflow:global_step/sec: 24.9612\n",
      "INFO:tensorflow:loss = 0.236552, step = 14401 (4.031 sec)\n",
      "INFO:tensorflow:global_step/sec: 24.8653\n",
      "INFO:tensorflow:loss = 0.108362, step = 14501 (3.996 sec)\n",
      "INFO:tensorflow:global_step/sec: 21.5449\n",
      "INFO:tensorflow:loss = 0.13376, step = 14601 (4.641 sec)\n",
      "INFO:tensorflow:global_step/sec: 25.1854\n",
      "INFO:tensorflow:loss = 0.0671431, step = 14701 (3.971 sec)\n",
      "INFO:tensorflow:global_step/sec: 24.835\n",
      "INFO:tensorflow:loss = 0.0279995, step = 14801 (4.027 sec)\n",
      "INFO:tensorflow:global_step/sec: 25.1584\n",
      "INFO:tensorflow:loss = 0.0624687, step = 14901 (3.975 sec)\n",
      "INFO:tensorflow:global_step/sec: 25.1597\n",
      "INFO:tensorflow:loss = 0.289706, step = 15001 (3.975 sec)\n",
      "INFO:tensorflow:Saving checkpoints for 15089 into C:\\Users\\tunes\\AppData\\Local\\Temp\\tmps6au2t9t\\model.ckpt.\n",
      "INFO:tensorflow:global_step/sec: 18.0654\n",
      "INFO:tensorflow:loss = 0.0244582, step = 15101 (5.535 sec)\n",
      "INFO:tensorflow:global_step/sec: 25.1061\n",
      "INFO:tensorflow:loss = 0.103517, step = 15201 (4.133 sec)\n",
      "INFO:tensorflow:global_step/sec: 24.1547\n",
      "INFO:tensorflow:loss = 0.214335, step = 15301 (4.006 sec)\n",
      "INFO:tensorflow:global_step/sec: 25.1203\n",
      "INFO:tensorflow:loss = 0.011637, step = 15401 (3.965 sec)\n",
      "INFO:tensorflow:global_step/sec: 24.8079\n",
      "INFO:tensorflow:loss = 0.0652536, step = 15501 (4.047 sec)\n",
      "INFO:tensorflow:global_step/sec: 24.8241\n",
      "INFO:tensorflow:loss = 0.150911, step = 15601 (4.028 sec)\n",
      "INFO:tensorflow:global_step/sec: 24.9005\n",
      "INFO:tensorflow:loss = 0.0535001, step = 15701 (4.016 sec)\n",
      "INFO:tensorflow:global_step/sec: 24.3496\n",
      "INFO:tensorflow:loss = 0.149286, step = 15801 (4.107 sec)\n",
      "INFO:tensorflow:global_step/sec: 24.7237\n",
      "INFO:tensorflow:loss = 0.139041, step = 15901 (4.029 sec)\n",
      "INFO:tensorflow:global_step/sec: 25.1974\n",
      "INFO:tensorflow:loss = 0.0700671, step = 16001 (3.969 sec)\n",
      "INFO:tensorflow:global_step/sec: 25.2164\n",
      "INFO:tensorflow:loss = 0.0626865, step = 16101 (3.981 sec)\n",
      "INFO:tensorflow:global_step/sec: 25.0114\n",
      "INFO:tensorflow:loss = 0.121822, step = 16201 (3.998 sec)\n",
      "INFO:tensorflow:global_step/sec: 24.6717\n",
      "INFO:tensorflow:loss = 0.0889678, step = 16301 (4.049 sec)\n",
      "INFO:tensorflow:global_step/sec: 23.6413\n",
      "INFO:tensorflow:loss = 0.101257, step = 16401 (4.224 sec)\n",
      "INFO:tensorflow:global_step/sec: 25.237\n",
      "INFO:tensorflow:loss = 0.0541629, step = 16501 (3.973 sec)\n",
      "INFO:tensorflow:global_step/sec: 24.8121\n",
      "INFO:tensorflow:loss = 0.0374096, step = 16601 (4.016 sec)\n",
      "INFO:tensorflow:global_step/sec: 25.2003\n",
      "INFO:tensorflow:loss = 0.124967, step = 16701 (3.967 sec)\n",
      "INFO:tensorflow:global_step/sec: 25.1107\n",
      "INFO:tensorflow:loss = 0.061743, step = 16801 (3.982 sec)\n",
      "INFO:tensorflow:global_step/sec: 25.2069\n",
      "INFO:tensorflow:loss = 0.0706086, step = 16901 (3.967 sec)\n",
      "INFO:tensorflow:global_step/sec: 24.8715\n",
      "INFO:tensorflow:loss = 0.0293397, step = 17001 (4.025 sec)\n",
      "INFO:tensorflow:global_step/sec: 23.6625\n",
      "INFO:tensorflow:loss = 0.132574, step = 17101 (4.222 sec)\n",
      "INFO:tensorflow:global_step/sec: 24.9144\n",
      "INFO:tensorflow:loss = 0.045934, step = 17201 (4.014 sec)\n",
      "INFO:tensorflow:global_step/sec: 25.0984\n",
      "INFO:tensorflow:loss = 0.067733, step = 17301 (4.000 sec)\n",
      "INFO:tensorflow:global_step/sec: 24.9256\n",
      "INFO:tensorflow:loss = 0.139878, step = 17401 (4.012 sec)\n",
      "INFO:tensorflow:global_step/sec: 25.0959\n",
      "INFO:tensorflow:loss = 0.0230917, step = 17501 (3.985 sec)\n",
      "INFO:tensorflow:global_step/sec: 25.1217\n",
      "INFO:tensorflow:loss = 0.0366962, step = 17601 (3.965 sec)\n",
      "INFO:tensorflow:global_step/sec: 24.9974\n",
      "INFO:tensorflow:loss = 0.0130758, step = 17701 (4.000 sec)\n",
      "INFO:tensorflow:global_step/sec: 24.6925\n",
      "INFO:tensorflow:loss = 0.0350381, step = 17801 (4.058 sec)\n",
      "INFO:tensorflow:global_step/sec: 25.1415\n",
      "INFO:tensorflow:loss = 0.0810837, step = 17901 (3.985 sec)\n",
      "INFO:tensorflow:global_step/sec: 25.0554\n",
      "INFO:tensorflow:loss = 0.0247374, step = 18001 (3.980 sec)\n",
      "INFO:tensorflow:global_step/sec: 24.871\n",
      "INFO:tensorflow:loss = 0.0989613, step = 18101 (4.017 sec)\n",
      "INFO:tensorflow:global_step/sec: 24.0617\n",
      "INFO:tensorflow:loss = 0.0774698, step = 18201 (5.080 sec)\n",
      "INFO:tensorflow:global_step/sec: 19.9942\n",
      "INFO:tensorflow:loss = 0.0472679, step = 18301 (4.077 sec)\n",
      "INFO:tensorflow:global_step/sec: 24.625\n",
      "INFO:tensorflow:loss = 0.075479, step = 18401 (4.077 sec)\n",
      "INFO:tensorflow:global_step/sec: 24.8127\n",
      "INFO:tensorflow:loss = 0.0864071, step = 18501 (4.015 sec)\n",
      "INFO:tensorflow:global_step/sec: 25.2126\n",
      "INFO:tensorflow:loss = 0.0456673, step = 18601 (3.966 sec)\n",
      "INFO:tensorflow:global_step/sec: 25.2019\n",
      "INFO:tensorflow:loss = 0.0724175, step = 18701 (3.984 sec)\n",
      "INFO:tensorflow:global_step/sec: 24.1805\n",
      "INFO:tensorflow:loss = 0.0645336, step = 18801 (4.120 sec)\n",
      "INFO:tensorflow:global_step/sec: 25.0832\n",
      "INFO:tensorflow:loss = 0.037325, step = 18901 (3.987 sec)\n",
      "INFO:tensorflow:global_step/sec: 25.2158\n",
      "INFO:tensorflow:loss = 0.0791597, step = 19001 (3.966 sec)\n",
      "INFO:tensorflow:global_step/sec: 24.8147\n",
      "INFO:tensorflow:loss = 0.10315, step = 19101 (4.046 sec)\n",
      "INFO:tensorflow:global_step/sec: 23.7874\n",
      "INFO:tensorflow:loss = 0.0460841, step = 19201 (4.192 sec)\n",
      "INFO:tensorflow:global_step/sec: 25.0797\n",
      "INFO:tensorflow:loss = 0.111481, step = 19301 (3.992 sec)\n",
      "INFO:tensorflow:global_step/sec: 25.1494\n",
      "INFO:tensorflow:loss = 0.0793181, step = 19401 (3.967 sec)\n",
      "INFO:tensorflow:global_step/sec: 24.247\n",
      "INFO:tensorflow:loss = 0.0198702, step = 19501 (4.140 sec)\n",
      "INFO:tensorflow:global_step/sec: 24.4754\n",
      "INFO:tensorflow:loss = 0.071781, step = 19601 (4.076 sec)\n",
      "INFO:tensorflow:global_step/sec: 25.2548\n",
      "INFO:tensorflow:loss = 0.0610069, step = 19701 (3.954 sec)\n",
      "INFO:tensorflow:global_step/sec: 25.2182\n",
      "INFO:tensorflow:loss = 0.0430822, step = 19801 (3.981 sec)\n",
      "INFO:tensorflow:global_step/sec: 25.0062\n",
      "INFO:tensorflow:loss = 0.164062, step = 19901 (3.983 sec)\n",
      "INFO:tensorflow:global_step/sec: 24.7195\n",
      "INFO:tensorflow:loss = 0.0382463, step = 20001 (4.045 sec)\n",
      "INFO:tensorflow:global_step/sec: 25.2101\n",
      "INFO:tensorflow:loss = 0.0742964, step = 20101 (3.982 sec)\n",
      "INFO:tensorflow:global_step/sec: 25.0045\n",
      "INFO:tensorflow:loss = 0.0910539, step = 20201 (3.984 sec)\n",
      "INFO:tensorflow:global_step/sec: 24.8302\n",
      "INFO:tensorflow:loss = 0.0196239, step = 20301 (4.027 sec)\n",
      "INFO:tensorflow:global_step/sec: 24.9987\n",
      "INFO:tensorflow:loss = 0.0385378, step = 20401 (4.000 sec)\n",
      "INFO:tensorflow:global_step/sec: 25.2185\n",
      "INFO:tensorflow:loss = 0.0287022, step = 20501 (3.981 sec)\n",
      "INFO:tensorflow:global_step/sec: 25.0957\n",
      "INFO:tensorflow:loss = 0.0242435, step = 20601 (3.969 sec)\n",
      "INFO:tensorflow:global_step/sec: 23.3608\n",
      "INFO:tensorflow:loss = 0.0801415, step = 20701 (4.296 sec)\n",
      "INFO:tensorflow:global_step/sec: 25.1162\n",
      "INFO:tensorflow:loss = 0.0911638, step = 20801 (3.966 sec)\n",
      "INFO:tensorflow:global_step/sec: 25.1955\n",
      "INFO:tensorflow:loss = 0.0904381, step = 20901 (3.985 sec)\n",
      "INFO:tensorflow:global_step/sec: 25.0254\n",
      "INFO:tensorflow:loss = 0.0215253, step = 21001 (3.980 sec)\n",
      "INFO:tensorflow:global_step/sec: 25.0086\n",
      "INFO:tensorflow:loss = 0.0561989, step = 21101 (3.999 sec)\n",
      "INFO:tensorflow:global_step/sec: 24.7105\n",
      "INFO:tensorflow:loss = 0.0442876, step = 21201 (5.974 sec)\n",
      "INFO:tensorflow:global_step/sec: 16.9533\n",
      "INFO:tensorflow:loss = 0.040202, step = 21301 (3.987 sec)\n",
      "INFO:tensorflow:global_step/sec: 24.8401\n",
      "INFO:tensorflow:loss = 0.0996187, step = 21401 (4.026 sec)\n",
      "INFO:tensorflow:global_step/sec: 25.1084\n",
      "INFO:tensorflow:loss = 0.0297847, step = 21501 (3.967 sec)\n",
      "INFO:tensorflow:global_step/sec: 25.2135\n",
      "INFO:tensorflow:loss = 0.160884, step = 21601 (3.982 sec)\n"
     ]
    },
    {
     "name": "stdout",
     "output_type": "stream",
     "text": [
      "INFO:tensorflow:global_step/sec: 24.6178\n",
      "INFO:tensorflow:loss = 0.00945084, step = 21701 (4.062 sec)\n",
      "INFO:tensorflow:global_step/sec: 24.8143\n",
      "INFO:tensorflow:loss = 0.0504068, step = 21801 (4.015 sec)\n",
      "INFO:tensorflow:global_step/sec: 25.1167\n",
      "INFO:tensorflow:loss = 0.0289049, step = 21901 (3.980 sec)\n",
      "INFO:tensorflow:global_step/sec: 25.1925\n",
      "INFO:tensorflow:loss = 0.252422, step = 22001 (3.969 sec)\n",
      "INFO:tensorflow:global_step/sec: 25.1188\n",
      "INFO:tensorflow:loss = 0.0928545, step = 22101 (3.981 sec)\n",
      "INFO:tensorflow:global_step/sec: 25.0104\n",
      "INFO:tensorflow:loss = 0.0509227, step = 22201 (3.998 sec)\n",
      "INFO:tensorflow:global_step/sec: 25.3053\n",
      "INFO:tensorflow:loss = 0.270304, step = 22301 (3.967 sec)\n",
      "INFO:tensorflow:global_step/sec: 25.0979\n",
      "INFO:tensorflow:loss = 0.0626585, step = 22401 (3.969 sec)\n",
      "INFO:tensorflow:global_step/sec: 24.9216\n",
      "INFO:tensorflow:loss = 0.0147204, step = 22501 (4.013 sec)\n",
      "INFO:tensorflow:global_step/sec: 25.1082\n",
      "INFO:tensorflow:loss = 0.0628907, step = 22601 (3.998 sec)\n",
      "INFO:tensorflow:global_step/sec: 25.109\n",
      "INFO:tensorflow:loss = 0.0393149, step = 22701 (3.967 sec)\n",
      "INFO:tensorflow:global_step/sec: 25.1097\n",
      "INFO:tensorflow:loss = 0.0595338, step = 22801 (3.983 sec)\n",
      "INFO:tensorflow:global_step/sec: 24.8148\n",
      "INFO:tensorflow:loss = 0.135208, step = 22901 (4.030 sec)\n",
      "INFO:tensorflow:global_step/sec: 25.3064\n",
      "INFO:tensorflow:loss = 0.0320382, step = 23001 (3.967 sec)\n",
      "INFO:tensorflow:global_step/sec: 25.2096\n",
      "INFO:tensorflow:loss = 0.0123876, step = 23101 (3.951 sec)\n",
      "INFO:tensorflow:global_step/sec: 25.1107\n",
      "INFO:tensorflow:loss = 0.0710314, step = 23201 (3.982 sec)\n",
      "INFO:tensorflow:global_step/sec: 25.0096\n",
      "INFO:tensorflow:loss = 0.0201207, step = 23301 (4.014 sec)\n",
      "INFO:tensorflow:global_step/sec: 25.1081\n",
      "INFO:tensorflow:loss = 0.0746748, step = 23401 (3.967 sec)\n",
      "INFO:tensorflow:global_step/sec: 25.2072\n",
      "INFO:tensorflow:loss = 0.0875771, step = 23501 (3.983 sec)\n",
      "INFO:tensorflow:global_step/sec: 25.111\n",
      "INFO:tensorflow:loss = 0.0908172, step = 23601 (3.967 sec)\n",
      "INFO:tensorflow:global_step/sec: 24.9114\n",
      "INFO:tensorflow:loss = 0.0199755, step = 23701 (4.030 sec)\n",
      "INFO:tensorflow:global_step/sec: 25.1061\n",
      "INFO:tensorflow:loss = 0.0477359, step = 23801 (3.983 sec)\n",
      "INFO:tensorflow:global_step/sec: 25.2339\n",
      "INFO:tensorflow:loss = 0.00765604, step = 23901 (3.963 sec)\n",
      "INFO:tensorflow:global_step/sec: 24.8328\n",
      "INFO:tensorflow:loss = 0.0260632, step = 24001 (4.011 sec)\n",
      "INFO:tensorflow:global_step/sec: 25.1468\n",
      "INFO:tensorflow:loss = 0.0409904, step = 24101 (3.986 sec)\n",
      "INFO:tensorflow:global_step/sec: 25.2303\n",
      "INFO:tensorflow:loss = 0.153395, step = 24201 (4.095 sec)\n",
      "INFO:tensorflow:global_step/sec: 24.3279\n",
      "INFO:tensorflow:loss = 0.0290677, step = 24301 (3.985 sec)\n",
      "INFO:tensorflow:global_step/sec: 24.7647\n",
      "INFO:tensorflow:loss = 0.201434, step = 24401 (4.022 sec)\n",
      "INFO:tensorflow:global_step/sec: 23.6795\n",
      "INFO:tensorflow:loss = 0.0917118, step = 24501 (4.223 sec)\n",
      "INFO:tensorflow:global_step/sec: 25.3022\n",
      "INFO:tensorflow:loss = 0.0809152, step = 24601 (3.952 sec)\n",
      "INFO:tensorflow:global_step/sec: 24.4291\n",
      "INFO:tensorflow:loss = 0.0768022, step = 24701 (4.098 sec)\n",
      "INFO:tensorflow:global_step/sec: 24.9806\n",
      "INFO:tensorflow:loss = 0.142154, step = 24801 (4.014 sec)\n",
      "INFO:tensorflow:global_step/sec: 25.0426\n",
      "INFO:tensorflow:loss = 0.066526, step = 24901 (3.978 sec)\n",
      "INFO:tensorflow:global_step/sec: 25.2141\n",
      "INFO:tensorflow:loss = 0.0586719, step = 25001 (3.966 sec)\n",
      "INFO:tensorflow:global_step/sec: 21.7606\n",
      "INFO:tensorflow:loss = 0.0215065, step = 25101 (4.611 sec)\n",
      "INFO:tensorflow:global_step/sec: 24.3524\n",
      "INFO:tensorflow:loss = 0.110775, step = 25201 (4.098 sec)\n",
      "INFO:tensorflow:global_step/sec: 25.1098\n",
      "INFO:tensorflow:loss = 0.231375, step = 25301 (3.975 sec)\n",
      "INFO:tensorflow:global_step/sec: 25.1025\n",
      "INFO:tensorflow:loss = 0.0924361, step = 25401 (3.989 sec)\n",
      "INFO:tensorflow:global_step/sec: 24.9089\n",
      "INFO:tensorflow:loss = 0.0516897, step = 25501 (4.025 sec)\n",
      "INFO:tensorflow:global_step/sec: 25.1155\n",
      "INFO:tensorflow:loss = 0.0238689, step = 25601 (3.966 sec)\n",
      "INFO:tensorflow:global_step/sec: 25.2725\n",
      "INFO:tensorflow:loss = 0.0126345, step = 25701 (3.957 sec)\n",
      "INFO:tensorflow:global_step/sec: 25.0481\n",
      "INFO:tensorflow:loss = 0.0505482, step = 25801 (3.992 sec)\n",
      "INFO:tensorflow:global_step/sec: 24.8698\n",
      "INFO:tensorflow:loss = 0.0434137, step = 25901 (4.021 sec)\n",
      "INFO:tensorflow:global_step/sec: 25.145\n",
      "INFO:tensorflow:loss = 0.123909, step = 26001 (3.993 sec)\n",
      "INFO:tensorflow:global_step/sec: 25.112\n",
      "INFO:tensorflow:loss = 0.0134002, step = 26101 (3.967 sec)\n",
      "INFO:tensorflow:global_step/sec: 25.0404\n",
      "INFO:tensorflow:loss = 0.0814662, step = 26201 (4.009 sec)\n",
      "INFO:tensorflow:global_step/sec: 24.5835\n",
      "INFO:tensorflow:loss = 0.0992926, step = 26301 (4.052 sec)\n",
      "INFO:tensorflow:global_step/sec: 24.8637\n",
      "INFO:tensorflow:loss = 0.0533573, step = 26401 (4.022 sec)\n",
      "INFO:tensorflow:global_step/sec: 25.159\n",
      "INFO:tensorflow:loss = 0.0184445, step = 26501 (3.981 sec)\n",
      "INFO:tensorflow:global_step/sec: 24.9232\n",
      "INFO:tensorflow:loss = 0.124451, step = 26601 (4.022 sec)\n",
      "INFO:tensorflow:global_step/sec: 25.1043\n",
      "INFO:tensorflow:loss = 0.0812739, step = 26701 (3.968 sec)\n",
      "INFO:tensorflow:global_step/sec: 25.213\n",
      "INFO:tensorflow:loss = 0.0395923, step = 26801 (3.982 sec)\n",
      "INFO:tensorflow:global_step/sec: 25.1011\n",
      "INFO:tensorflow:loss = 0.0211601, step = 26901 (3.968 sec)\n",
      "INFO:tensorflow:global_step/sec: 24.1707\n",
      "INFO:tensorflow:loss = 0.0386211, step = 27001 (4.153 sec)\n",
      "INFO:tensorflow:global_step/sec: 24.6225\n",
      "INFO:tensorflow:loss = 0.030328, step = 27101 (4.046 sec)\n",
      "INFO:tensorflow:global_step/sec: 25.1171\n",
      "INFO:tensorflow:loss = 0.0380706, step = 27201 (4.313 sec)\n",
      "INFO:tensorflow:global_step/sec: 23.3399\n",
      "INFO:tensorflow:loss = 0.00688593, step = 27301 (3.969 sec)\n",
      "INFO:tensorflow:global_step/sec: 24.7333\n",
      "INFO:tensorflow:loss = 0.045929, step = 27401 (4.027 sec)\n",
      "INFO:tensorflow:global_step/sec: 24.8079\n",
      "INFO:tensorflow:loss = 0.0106474, step = 27501 (4.031 sec)\n",
      "INFO:tensorflow:global_step/sec: 25.1141\n",
      "INFO:tensorflow:loss = 0.0441414, step = 27601 (3.982 sec)\n",
      "INFO:tensorflow:global_step/sec: 24.4417\n",
      "INFO:tensorflow:loss = 0.0247507, step = 27701 (4.101 sec)\n",
      "INFO:tensorflow:global_step/sec: 24.7207\n",
      "INFO:tensorflow:loss = 0.0492468, step = 27801 (4.035 sec)\n",
      "INFO:tensorflow:global_step/sec: 25.2414\n",
      "INFO:tensorflow:loss = 0.0927557, step = 27901 (3.962 sec)\n",
      "INFO:tensorflow:global_step/sec: 23.8202\n",
      "INFO:tensorflow:loss = 0.258259, step = 28001 (4.214 sec)\n",
      "INFO:tensorflow:global_step/sec: 23.5604\n",
      "INFO:tensorflow:loss = 0.0363737, step = 28101 (4.229 sec)\n",
      "INFO:tensorflow:global_step/sec: 24.4287\n",
      "INFO:tensorflow:loss = 0.0178162, step = 28201 (4.109 sec)\n",
      "INFO:tensorflow:global_step/sec: 25.1182\n",
      "INFO:tensorflow:loss = 0.0372896, step = 28301 (3.966 sec)\n",
      "INFO:tensorflow:global_step/sec: 25.0091\n",
      "INFO:tensorflow:loss = 0.079178, step = 28401 (3.999 sec)\n",
      "INFO:tensorflow:global_step/sec: 24.9715\n",
      "INFO:tensorflow:loss = 0.0221452, step = 28501 (4.013 sec)\n",
      "INFO:tensorflow:global_step/sec: 25.2508\n",
      "INFO:tensorflow:loss = 0.0246613, step = 28601 (3.952 sec)\n",
      "INFO:tensorflow:global_step/sec: 25.3115\n",
      "INFO:tensorflow:loss = 0.0611386, step = 28701 (3.966 sec)\n",
      "INFO:tensorflow:global_step/sec: 25.0938\n",
      "INFO:tensorflow:loss = 0.0975159, step = 28801 (3.985 sec)\n",
      "INFO:tensorflow:global_step/sec: 24.9526\n",
      "INFO:tensorflow:loss = 0.0332299, step = 28901 (3.997 sec)\n",
      "INFO:tensorflow:global_step/sec: 25.273\n",
      "INFO:tensorflow:loss = 0.106732, step = 29001 (3.967 sec)\n",
      "INFO:tensorflow:global_step/sec: 25.1948\n",
      "INFO:tensorflow:loss = 0.0372241, step = 29101 (3.953 sec)\n",
      "INFO:tensorflow:global_step/sec: 24.8699\n",
      "INFO:tensorflow:loss = 0.135315, step = 29201 (4.037 sec)\n",
      "INFO:tensorflow:global_step/sec: 24.9599\n",
      "INFO:tensorflow:loss = 0.0509931, step = 29301 (3.991 sec)\n",
      "INFO:tensorflow:global_step/sec: 25.218\n",
      "INFO:tensorflow:loss = 0.0160994, step = 29401 (3.965 sec)\n",
      "INFO:tensorflow:global_step/sec: 25.1969\n",
      "INFO:tensorflow:loss = 0.0205594, step = 29501 (3.969 sec)\n",
      "INFO:tensorflow:global_step/sec: 24.872\n",
      "INFO:tensorflow:loss = 0.00933987, step = 29601 (4.036 sec)\n",
      "INFO:tensorflow:global_step/sec: 25.2519\n",
      "INFO:tensorflow:loss = 0.0227823, step = 29701 (3.960 sec)\n",
      "INFO:tensorflow:global_step/sec: 25.1188\n",
      "INFO:tensorflow:loss = 0.0354806, step = 29801 (3.965 sec)\n",
      "INFO:tensorflow:Saving checkpoints for 29900 into C:\\Users\\tunes\\AppData\\Local\\Temp\\tmps6au2t9t\\model.ckpt.\n"
     ]
    },
    {
     "name": "stdout",
     "output_type": "stream",
     "text": [
      "INFO:tensorflow:global_step/sec: 19.991\n",
      "INFO:tensorflow:loss = 0.0203803, step = 29901 (5.018 sec)\n",
      "INFO:tensorflow:global_step/sec: 24.8716\n",
      "INFO:tensorflow:loss = 0.0346404, step = 30001 (4.005 sec)\n",
      "INFO:tensorflow:global_step/sec: 25.2438\n",
      "INFO:tensorflow:loss = 0.0954907, step = 30101 (3.961 sec)\n",
      "INFO:tensorflow:global_step/sec: 25.2167\n",
      "INFO:tensorflow:loss = 0.166795, step = 30201 (4.106 sec)\n",
      "INFO:tensorflow:global_step/sec: 23.9722\n",
      "INFO:tensorflow:loss = 0.0981669, step = 30301 (4.031 sec)\n",
      "INFO:tensorflow:global_step/sec: 25.2153\n",
      "INFO:tensorflow:loss = 0.115262, step = 30401 (3.971 sec)\n",
      "INFO:tensorflow:global_step/sec: 25.2423\n",
      "INFO:tensorflow:loss = 0.0962575, step = 30501 (3.963 sec)\n",
      "INFO:tensorflow:global_step/sec: 24.9493\n",
      "INFO:tensorflow:loss = 0.0458611, step = 30601 (4.012 sec)\n",
      "INFO:tensorflow:global_step/sec: 24.3705\n",
      "INFO:tensorflow:loss = 0.00637199, step = 30701 (4.109 sec)\n",
      "INFO:tensorflow:global_step/sec: 24.8997\n",
      "INFO:tensorflow:loss = 0.0772523, step = 30801 (4.016 sec)\n",
      "INFO:tensorflow:global_step/sec: 25.1092\n",
      "INFO:tensorflow:loss = 0.00727873, step = 30901 (3.967 sec)\n",
      "INFO:tensorflow:global_step/sec: 25.2125\n",
      "INFO:tensorflow:loss = 0.022073, step = 31001 (3.966 sec)\n",
      "INFO:tensorflow:global_step/sec: 24.9911\n",
      "INFO:tensorflow:loss = 0.0335198, step = 31101 (4.001 sec)\n",
      "INFO:tensorflow:global_step/sec: 23.3868\n",
      "INFO:tensorflow:loss = 0.0367172, step = 31201 (4.293 sec)\n",
      "INFO:tensorflow:global_step/sec: 24.4259\n",
      "INFO:tensorflow:loss = 0.0197503, step = 31301 (4.093 sec)\n",
      "INFO:tensorflow:global_step/sec: 24.4319\n",
      "INFO:tensorflow:loss = 0.0634995, step = 31401 (4.077 sec)\n",
      "INFO:tensorflow:global_step/sec: 24.5485\n",
      "INFO:tensorflow:loss = 0.00845546, step = 31501 (4.078 sec)\n",
      "INFO:tensorflow:global_step/sec: 24.9923\n",
      "INFO:tensorflow:loss = 0.0189198, step = 31601 (3.997 sec)\n",
      "INFO:tensorflow:global_step/sec: 25.204\n",
      "INFO:tensorflow:loss = 0.0369735, step = 31701 (3.968 sec)\n",
      "INFO:tensorflow:global_step/sec: 25.0173\n",
      "INFO:tensorflow:loss = 0.140823, step = 31801 (4.013 sec)\n",
      "INFO:tensorflow:global_step/sec: 23.6212\n",
      "INFO:tensorflow:loss = 0.0880035, step = 31901 (4.218 sec)\n",
      "INFO:tensorflow:global_step/sec: 25.1979\n",
      "INFO:tensorflow:loss = 0.156721, step = 32001 (3.969 sec)\n",
      "INFO:tensorflow:global_step/sec: 25.2207\n",
      "INFO:tensorflow:loss = 0.019867, step = 32101 (3.981 sec)\n",
      "INFO:tensorflow:global_step/sec: 24.9027\n",
      "INFO:tensorflow:loss = 0.0155111, step = 32201 (4.016 sec)\n",
      "INFO:tensorflow:global_step/sec: 25.0147\n",
      "INFO:tensorflow:loss = 0.137462, step = 32301 (3.982 sec)\n",
      "INFO:tensorflow:global_step/sec: 25.2038\n",
      "INFO:tensorflow:loss = 0.0480369, step = 32401 (3.968 sec)\n",
      "INFO:tensorflow:global_step/sec: 25.0176\n",
      "INFO:tensorflow:loss = 0.058728, step = 32501 (3.997 sec)\n",
      "INFO:tensorflow:global_step/sec: 24.8081\n",
      "INFO:tensorflow:loss = 0.0339609, step = 32601 (4.031 sec)\n",
      "INFO:tensorflow:global_step/sec: 25.219\n",
      "INFO:tensorflow:loss = 0.00288369, step = 32701 (3.981 sec)\n",
      "INFO:tensorflow:global_step/sec: 25.0997\n",
      "INFO:tensorflow:loss = 0.0357759, step = 32801 (3.968 sec)\n",
      "INFO:tensorflow:global_step/sec: 24.9389\n",
      "INFO:tensorflow:loss = 0.0347995, step = 32901 (4.015 sec)\n",
      "INFO:tensorflow:global_step/sec: 25.0816\n",
      "INFO:tensorflow:loss = 0.0720932, step = 33001 (3.998 sec)\n",
      "INFO:tensorflow:global_step/sec: 25.2074\n",
      "INFO:tensorflow:loss = 0.102587, step = 33101 (3.951 sec)\n",
      "INFO:tensorflow:global_step/sec: 25.217\n",
      "INFO:tensorflow:loss = 0.0109104, step = 33201 (4.106 sec)\n",
      "INFO:tensorflow:global_step/sec: 23.9795\n",
      "INFO:tensorflow:loss = 0.0596589, step = 33301 (4.030 sec)\n",
      "INFO:tensorflow:global_step/sec: 25.2991\n",
      "INFO:tensorflow:loss = 0.00602388, step = 33401 (3.953 sec)\n",
      "INFO:tensorflow:global_step/sec: 25.2043\n",
      "INFO:tensorflow:loss = 0.0725598, step = 33501 (3.968 sec)\n",
      "INFO:tensorflow:global_step/sec: 24.7146\n",
      "INFO:tensorflow:loss = 0.0098208, step = 33601 (4.046 sec)\n",
      "INFO:tensorflow:global_step/sec: 24.7244\n",
      "INFO:tensorflow:loss = 0.0147916, step = 33701 (4.045 sec)\n",
      "INFO:tensorflow:global_step/sec: 25.2229\n",
      "INFO:tensorflow:loss = 0.00860897, step = 33801 (3.985 sec)\n",
      "INFO:tensorflow:global_step/sec: 25.0889\n",
      "INFO:tensorflow:loss = 0.0341796, step = 33901 (3.966 sec)\n",
      "INFO:tensorflow:global_step/sec: 25.2146\n",
      "INFO:tensorflow:loss = 0.0630951, step = 34001 (3.991 sec)\n",
      "INFO:tensorflow:global_step/sec: 24.9099\n",
      "INFO:tensorflow:loss = 0.0153065, step = 34101 (3.989 sec)\n",
      "INFO:tensorflow:global_step/sec: 25.1257\n",
      "INFO:tensorflow:loss = 0.0477538, step = 34201 (3.987 sec)\n",
      "INFO:tensorflow:global_step/sec: 25.2857\n",
      "INFO:tensorflow:loss = 0.0463145, step = 34301 (3.963 sec)\n",
      "INFO:tensorflow:global_step/sec: 25.0281\n",
      "INFO:tensorflow:loss = 0.050011, step = 34401 (3.990 sec)\n",
      "INFO:tensorflow:global_step/sec: 24.7541\n",
      "INFO:tensorflow:loss = 0.0123742, step = 34501 (4.045 sec)\n",
      "INFO:tensorflow:global_step/sec: 24.9586\n",
      "INFO:tensorflow:loss = 0.164792, step = 34601 (4.007 sec)\n",
      "INFO:tensorflow:global_step/sec: 23.4454\n",
      "INFO:tensorflow:loss = 0.100548, step = 34701 (4.265 sec)\n",
      "INFO:tensorflow:global_step/sec: 24.1538\n",
      "INFO:tensorflow:loss = 0.0900838, step = 34801 (4.140 sec)\n",
      "INFO:tensorflow:global_step/sec: 24.4463\n",
      "INFO:tensorflow:loss = 0.182052, step = 34901 (4.091 sec)\n",
      "INFO:tensorflow:global_step/sec: 24.2418\n",
      "INFO:tensorflow:loss = 0.0477028, step = 35001 (4.125 sec)\n",
      "INFO:tensorflow:global_step/sec: 24.4309\n",
      "INFO:tensorflow:loss = 0.05493, step = 35101 (4.093 sec)\n",
      "INFO:tensorflow:global_step/sec: 24.35\n",
      "INFO:tensorflow:loss = 0.0143771, step = 35201 (4.111 sec)\n",
      "INFO:tensorflow:global_step/sec: 24.4278\n",
      "INFO:tensorflow:loss = 0.0259974, step = 35301 (4.073 sec)\n",
      "INFO:tensorflow:global_step/sec: 24.9188\n",
      "INFO:tensorflow:loss = 0.0446255, step = 35401 (4.029 sec)\n",
      "INFO:tensorflow:global_step/sec: 25.0054\n",
      "INFO:tensorflow:loss = 0.101446, step = 35501 (3.984 sec)\n",
      "INFO:tensorflow:global_step/sec: 24.8934\n",
      "INFO:tensorflow:loss = 0.0596978, step = 35601 (4.017 sec)\n",
      "INFO:tensorflow:global_step/sec: 25.1195\n",
      "INFO:tensorflow:loss = 0.0817055, step = 35701 (3.986 sec)\n",
      "INFO:tensorflow:global_step/sec: 25.2191\n",
      "INFO:tensorflow:loss = 0.0571295, step = 35801 (3.960 sec)\n",
      "INFO:tensorflow:global_step/sec: 24.9563\n",
      "INFO:tensorflow:loss = 0.0294182, step = 35901 (4.012 sec)\n",
      "INFO:tensorflow:global_step/sec: 25.2585\n",
      "INFO:tensorflow:loss = 0.121973, step = 36001 (3.954 sec)\n",
      "INFO:tensorflow:global_step/sec: 25.3206\n",
      "INFO:tensorflow:loss = 0.0311138, step = 36101 (3.949 sec)\n",
      "INFO:tensorflow:global_step/sec: 25.1992\n",
      "INFO:tensorflow:loss = 0.0265383, step = 36201 (4.093 sec)\n",
      "INFO:tensorflow:global_step/sec: 24.2481\n",
      "INFO:tensorflow:loss = 0.148563, step = 36301 (4.015 sec)\n",
      "INFO:tensorflow:global_step/sec: 25.207\n",
      "INFO:tensorflow:loss = 0.0478008, step = 36401 (3.967 sec)\n",
      "INFO:tensorflow:global_step/sec: 25.2064\n",
      "INFO:tensorflow:loss = 0.0453761, step = 36501 (3.967 sec)\n",
      "INFO:tensorflow:global_step/sec: 24.5595\n",
      "INFO:tensorflow:loss = 0.0425872, step = 36601 (4.056 sec)\n",
      "INFO:tensorflow:global_step/sec: 24.8929\n",
      "INFO:tensorflow:loss = 0.0500401, step = 36701 (4.017 sec)\n",
      "INFO:tensorflow:global_step/sec: 25.0967\n",
      "INFO:tensorflow:loss = 0.0964448, step = 36801 (3.990 sec)\n",
      "INFO:tensorflow:global_step/sec: 25.1166\n",
      "INFO:tensorflow:loss = 0.0559776, step = 36901 (3.976 sec)\n",
      "INFO:tensorflow:global_step/sec: 25.1381\n",
      "INFO:tensorflow:loss = 0.0643734, step = 37001 (3.983 sec)\n",
      "INFO:tensorflow:global_step/sec: 24.8822\n",
      "INFO:tensorflow:loss = 0.121164, step = 37101 (4.030 sec)\n",
      "INFO:tensorflow:global_step/sec: 24.907\n",
      "INFO:tensorflow:loss = 0.0250299, step = 37201 (3.999 sec)\n",
      "INFO:tensorflow:global_step/sec: 25.0105\n",
      "INFO:tensorflow:loss = 0.127577, step = 37301 (4.014 sec)\n",
      "INFO:tensorflow:global_step/sec: 24.5298\n",
      "INFO:tensorflow:loss = 0.0935718, step = 37401 (4.061 sec)\n",
      "INFO:tensorflow:global_step/sec: 25.111\n",
      "INFO:tensorflow:loss = 0.0732341, step = 37501 (3.982 sec)\n",
      "INFO:tensorflow:global_step/sec: 25.2022\n",
      "INFO:tensorflow:loss = 0.0182698, step = 37601 (3.984 sec)\n",
      "INFO:tensorflow:global_step/sec: 25.0228\n",
      "INFO:tensorflow:loss = 0.0457344, step = 37701 (3.981 sec)\n",
      "INFO:tensorflow:global_step/sec: 23.0109\n",
      "INFO:tensorflow:loss = 0.0209371, step = 37801 (4.358 sec)\n",
      "INFO:tensorflow:global_step/sec: 21.8445\n",
      "INFO:tensorflow:loss = 0.0117093, step = 37901 (4.581 sec)\n",
      "INFO:tensorflow:global_step/sec: 21.9964\n",
      "INFO:tensorflow:loss = 0.0360372, step = 38001 (4.546 sec)\n",
      "INFO:tensorflow:global_step/sec: 23.5353\n"
     ]
    },
    {
     "name": "stdout",
     "output_type": "stream",
     "text": [
      "INFO:tensorflow:loss = 0.0325359, step = 38101 (4.233 sec)\n",
      "INFO:tensorflow:global_step/sec: 25.1117\n",
      "INFO:tensorflow:loss = 0.0541632, step = 38201 (3.982 sec)\n",
      "INFO:tensorflow:global_step/sec: 24.6189\n",
      "INFO:tensorflow:loss = 0.038359, step = 38301 (4.062 sec)\n",
      "INFO:tensorflow:global_step/sec: 24.6188\n",
      "INFO:tensorflow:loss = 0.0417906, step = 38401 (4.078 sec)\n",
      "INFO:tensorflow:global_step/sec: 24.6312\n",
      "INFO:tensorflow:loss = 0.0412401, step = 38501 (4.044 sec)\n",
      "INFO:tensorflow:global_step/sec: 24.9067\n",
      "INFO:tensorflow:loss = 0.125403, step = 38601 (4.031 sec)\n",
      "INFO:tensorflow:global_step/sec: 24.7954\n",
      "INFO:tensorflow:loss = 0.0455285, step = 38701 (4.022 sec)\n",
      "INFO:tensorflow:global_step/sec: 25.1285\n",
      "INFO:tensorflow:loss = 0.0283906, step = 38801 (3.975 sec)\n",
      "INFO:tensorflow:global_step/sec: 25.0059\n",
      "INFO:tensorflow:loss = 0.0286413, step = 38901 (3.999 sec)\n",
      "INFO:tensorflow:global_step/sec: 25.2156\n",
      "INFO:tensorflow:loss = 0.0273664, step = 39001 (3.966 sec)\n",
      "INFO:tensorflow:global_step/sec: 25.2018\n",
      "INFO:tensorflow:loss = 0.00468415, step = 39101 (3.968 sec)\n",
      "INFO:tensorflow:global_step/sec: 25.063\n",
      "INFO:tensorflow:loss = 0.0562669, step = 39201 (4.115 sec)\n",
      "INFO:tensorflow:global_step/sec: 23.0726\n",
      "INFO:tensorflow:loss = 0.0867527, step = 39301 (4.225 sec)\n",
      "INFO:tensorflow:global_step/sec: 25.0024\n",
      "INFO:tensorflow:loss = 0.00674645, step = 39401 (3.984 sec)\n",
      "INFO:tensorflow:global_step/sec: 24.9195\n",
      "INFO:tensorflow:loss = 0.0278422, step = 39501 (4.029 sec)\n",
      "INFO:tensorflow:global_step/sec: 24.3911\n",
      "INFO:tensorflow:loss = 0.0774941, step = 39601 (4.084 sec)\n",
      "INFO:tensorflow:global_step/sec: 25.1451\n",
      "INFO:tensorflow:loss = 0.0563732, step = 39701 (3.977 sec)\n",
      "INFO:tensorflow:global_step/sec: 25.0976\n",
      "INFO:tensorflow:loss = 0.0387806, step = 39801 (3.984 sec)\n",
      "INFO:tensorflow:global_step/sec: 25.1226\n",
      "INFO:tensorflow:loss = 0.106436, step = 39901 (3.980 sec)\n",
      "INFO:tensorflow:Saving checkpoints for 40000 into C:\\Users\\tunes\\AppData\\Local\\Temp\\tmps6au2t9t\\model.ckpt.\n",
      "INFO:tensorflow:Loss for final step: 0.0116828.\n"
     ]
    },
    {
     "data": {
      "text/plain": [
       "DNNClassifier(params={'head': <tensorflow.contrib.learn.python.learn.estimators.head._MultiClassHead object at 0x000001E7FC0BDE10>, 'hidden_units': [2048, 1024, 512, 256], 'feature_columns': (_RealValuedColumn(column_name='', dimension=45, default_value=None, dtype=tf.float64, normalizer=None),), 'optimizer': None, 'activation_fn': <function relu at 0x000001E7E3482F28>, 'dropout': None, 'gradient_clip_norm': None, 'embedding_lr_multipliers': None, 'input_layer_min_slice_size': None})"
      ]
     },
     "execution_count": 58,
     "metadata": {},
     "output_type": "execute_result"
    }
   ],
   "source": [
    "import tensorflow as tf\n",
    "\n",
    "feature_columns = tf.contrib.learn.infer_real_valued_columns_from_input(X_train)\n",
    "\n",
    "dnn_clf = tf.contrib.learn.DNNClassifier(hidden_units=[2048, 1024, 512, 256], n_classes=19, \n",
    "                                         feature_columns=feature_columns)\n",
    "\n",
    "dnn_clf.fit(x=X_train, y=y_train, batch_size=50, steps=40000, input_fn=None)"
   ]
  },
  {
   "cell_type": "code",
   "execution_count": 64,
   "metadata": {
    "scrolled": false
   },
   "outputs": [
    {
     "name": "stdout",
     "output_type": "stream",
     "text": [
      "WARNING:tensorflow:From D:\\Softwares\\Anaconda3\\lib\\site-packages\\tensorflow\\python\\util\\deprecation.py:347: calling DNNClassifier.predict (from tensorflow.contrib.learn.python.learn.estimators.dnn) with outputs=None is deprecated and will be removed after 2017-03-01.\n",
      "Instructions for updating:\n",
      "Please switch to predict_classes, or set `outputs` argument.\n",
      "WARNING:tensorflow:From D:\\Softwares\\Anaconda3\\lib\\site-packages\\tensorflow\\contrib\\learn\\python\\learn\\estimators\\dnn.py:433: calling BaseEstimator.predict (from tensorflow.contrib.learn.python.learn.estimators.estimator) with x is deprecated and will be removed after 2016-12-01.\n",
      "Instructions for updating:\n",
      "Estimator is decoupled from Scikit Learn interface by moving into\n",
      "separate class SKCompat. Arguments x, y and batch_size are only\n",
      "available in the SKCompat class, Estimator will only accept input_fn.\n",
      "Example conversion:\n",
      "  est = Estimator(...) -> est = SKCompat(Estimator(...))\n",
      "WARNING:tensorflow:float64 is not supported by many models, consider casting to float32.\n",
      "INFO:tensorflow:Restoring parameters from C:\\Users\\tunes\\AppData\\Local\\Temp\\tmps6au2t9t\\model.ckpt-40000\n"
     ]
    },
    {
     "data": {
      "text/plain": [
       "0.68619846628473047"
      ]
     },
     "execution_count": 64,
     "metadata": {},
     "output_type": "execute_result"
    }
   ],
   "source": [
    "#from test dataset\n",
    "from sklearn.metrics import f1_score\n",
    "y_pred = list(dnn_clf.predict(X_test))\n",
    "\n",
    "f1_score(y_test, y_pred, average='macro')  \n",
    "#from sklearn.model_selection import cross_val_score\n",
    "\n",
    "#y_train_dnn_pred = cross_val_score(dnn_clf, X_train, y_train, cv=3)\n",
    "#f1_score(y_train, y_train_dnn_pred, average=\"macro\")"
   ]
  },
  {
   "cell_type": "code",
   "execution_count": 65,
   "metadata": {},
   "outputs": [
    {
     "name": "stdout",
     "output_type": "stream",
     "text": [
      "WARNING:tensorflow:From D:\\Softwares\\Anaconda3\\lib\\site-packages\\tensorflow\\python\\util\\deprecation.py:347: calling DNNClassifier.predict (from tensorflow.contrib.learn.python.learn.estimators.dnn) with outputs=None is deprecated and will be removed after 2017-03-01.\n",
      "Instructions for updating:\n",
      "Please switch to predict_classes, or set `outputs` argument.\n",
      "WARNING:tensorflow:From D:\\Softwares\\Anaconda3\\lib\\site-packages\\tensorflow\\contrib\\learn\\python\\learn\\estimators\\dnn.py:433: calling BaseEstimator.predict (from tensorflow.contrib.learn.python.learn.estimators.estimator) with x is deprecated and will be removed after 2016-12-01.\n",
      "Instructions for updating:\n",
      "Estimator is decoupled from Scikit Learn interface by moving into\n",
      "separate class SKCompat. Arguments x, y and batch_size are only\n",
      "available in the SKCompat class, Estimator will only accept input_fn.\n",
      "Example conversion:\n",
      "  est = Estimator(...) -> est = SKCompat(Estimator(...))\n",
      "WARNING:tensorflow:float64 is not supported by many models, consider casting to float32.\n",
      "INFO:tensorflow:Restoring parameters from C:\\Users\\tunes\\AppData\\Local\\Temp\\tmps6au2t9t\\model.ckpt-40000\n"
     ]
    },
    {
     "data": {
      "text/plain": [
       "0.70564035087719301"
      ]
     },
     "execution_count": 65,
     "metadata": {},
     "output_type": "execute_result"
    }
   ],
   "source": [
    "#from test dataset\n",
    "from sklearn.metrics import accuracy_score\n",
    "y_pred = list(dnn_clf.predict(X_test))\n",
    "accuracy_score(y_test, y_pred)"
   ]
  },
  {
   "cell_type": "code",
   "execution_count": 66,
   "metadata": {},
   "outputs": [
    {
     "name": "stdout",
     "output_type": "stream",
     "text": [
      "WARNING:tensorflow:From D:\\Softwares\\Anaconda3\\lib\\site-packages\\tensorflow\\python\\util\\deprecation.py:347: calling DNNClassifier.predict (from tensorflow.contrib.learn.python.learn.estimators.dnn) with outputs=None is deprecated and will be removed after 2017-03-01.\n",
      "Instructions for updating:\n",
      "Please switch to predict_classes, or set `outputs` argument.\n",
      "WARNING:tensorflow:From D:\\Softwares\\Anaconda3\\lib\\site-packages\\tensorflow\\contrib\\learn\\python\\learn\\estimators\\dnn.py:433: calling BaseEstimator.predict (from tensorflow.contrib.learn.python.learn.estimators.estimator) with x is deprecated and will be removed after 2016-12-01.\n",
      "Instructions for updating:\n",
      "Estimator is decoupled from Scikit Learn interface by moving into\n",
      "separate class SKCompat. Arguments x, y and batch_size are only\n",
      "available in the SKCompat class, Estimator will only accept input_fn.\n",
      "Example conversion:\n",
      "  est = Estimator(...) -> est = SKCompat(Estimator(...))\n",
      "WARNING:tensorflow:float64 is not supported by many models, consider casting to float32.\n",
      "INFO:tensorflow:Restoring parameters from C:\\Users\\tunes\\AppData\\Local\\Temp\\tmps6au2t9t\\model.ckpt-40000\n"
     ]
    },
    {
     "data": {
      "text/plain": [
       "0.6587070447683615"
      ]
     },
     "execution_count": 66,
     "metadata": {},
     "output_type": "execute_result"
    }
   ],
   "source": [
    "#from validation dataset\n",
    "from sklearn.metrics import f1_score\n",
    "y_pred = list(dnn_clf.predict(X_vali))\n",
    "\n",
    "f1_score(y_vali, y_pred, average='macro') "
   ]
  },
  {
   "cell_type": "code",
   "execution_count": 67,
   "metadata": {},
   "outputs": [
    {
     "name": "stdout",
     "output_type": "stream",
     "text": [
      "WARNING:tensorflow:From D:\\Softwares\\Anaconda3\\lib\\site-packages\\tensorflow\\python\\util\\deprecation.py:347: calling DNNClassifier.predict (from tensorflow.contrib.learn.python.learn.estimators.dnn) with outputs=None is deprecated and will be removed after 2017-03-01.\n",
      "Instructions for updating:\n",
      "Please switch to predict_classes, or set `outputs` argument.\n",
      "WARNING:tensorflow:From D:\\Softwares\\Anaconda3\\lib\\site-packages\\tensorflow\\contrib\\learn\\python\\learn\\estimators\\dnn.py:433: calling BaseEstimator.predict (from tensorflow.contrib.learn.python.learn.estimators.estimator) with x is deprecated and will be removed after 2016-12-01.\n",
      "Instructions for updating:\n",
      "Estimator is decoupled from Scikit Learn interface by moving into\n",
      "separate class SKCompat. Arguments x, y and batch_size are only\n",
      "available in the SKCompat class, Estimator will only accept input_fn.\n",
      "Example conversion:\n",
      "  est = Estimator(...) -> est = SKCompat(Estimator(...))\n",
      "WARNING:tensorflow:float64 is not supported by many models, consider casting to float32.\n",
      "INFO:tensorflow:Restoring parameters from C:\\Users\\tunes\\AppData\\Local\\Temp\\tmps6au2t9t\\model.ckpt-40000\n"
     ]
    },
    {
     "data": {
      "text/plain": [
       "0.67436403508771925"
      ]
     },
     "execution_count": 67,
     "metadata": {},
     "output_type": "execute_result"
    }
   ],
   "source": [
    "#from validation dataset\n",
    "from sklearn.metrics import accuracy_score\n",
    "y_pred = list(dnn_clf.predict(X_vali))\n",
    "accuracy_score(y_vali, y_pred)"
   ]
  },
  {
   "cell_type": "code",
   "execution_count": 55,
   "metadata": {
    "scrolled": true
   },
   "outputs": [
    {
     "name": "stderr",
     "output_type": "stream",
     "text": [
      "D:\\Softwares\\Anaconda3\\lib\\site-packages\\ipykernel_launcher.py:8: DataConversionWarning: A column-vector y was passed when a 1d array was expected. Please change the shape of y to (n_samples,), for example using ravel().\n",
      "  \n"
     ]
    },
    {
     "name": "stdout",
     "output_type": "stream",
     "text": [
      "0.442271929825\n"
     ]
    },
    {
     "data": {
      "text/plain": [
       "0.43036697724880446"
      ]
     },
     "execution_count": 55,
     "metadata": {},
     "output_type": "execute_result"
    }
   ],
   "source": [
    "from sklearn.ensemble import RandomForestClassifier\n",
    "from sklearn.model_selection import GridSearchCV\n",
    "\n",
    "clf = RandomForestClassifier()\n",
    "\n",
    "\n",
    "\n",
    "clf.fit(X_train, y_train)\n",
    "pred=clf.predict(X_test)\n",
    "\n",
    "acc=accuracy_score(y_test, pred)\n",
    "print(acc)\n"
   ]
  },
  {
   "cell_type": "code",
   "execution_count": null,
   "metadata": {
    "collapsed": true
   },
   "outputs": [],
   "source": [
    "from sklearn.metrics import f1_score\n",
    "f1_score(y_test, pred, average='macro')"
   ]
  },
  {
   "cell_type": "code",
   "execution_count": 62,
   "metadata": {},
   "outputs": [
    {
     "name": "stdout",
     "output_type": "stream",
     "text": [
      "Automatically created module for IPython interactive environment\n"
     ]
    }
   ],
   "source": [
    "print(__doc__)\n",
    "\n",
    "import numpy as np\n",
    "import matplotlib.pyplot as plt\n",
    "\n",
    "from sklearn.datasets import make_classification\n",
    "from sklearn.ensemble import ExtraTreesClassifier\n",
    "\n",
    "\n",
    "# Build a forest and compute the feature importances\n",
    "forest = ExtraTreesClassifier(n_estimators=150,\n",
    "                              random_state=0)"
   ]
  },
  {
   "cell_type": "code",
   "execution_count": 74,
   "metadata": {},
   "outputs": [],
   "source": [
    "forest.fit(X, y)\n",
    "importances = forest.feature_importances_\n",
    "std = np.std([tree.feature_importances_ for tree in forest.estimators_],\n",
    "             axis=0)\n",
    "indices = np.argsort(importances)[::-1]\n",
    "\n",
    "# Print the feature ranking\n"
   ]
  },
  {
   "cell_type": "code",
   "execution_count": 80,
   "metadata": {
    "scrolled": false
   },
   "outputs": [
    {
     "name": "stdout",
     "output_type": "stream",
     "text": [
      "Feature ranking:\n",
      "1. feature 42 (0.058371)\n",
      "2. feature 6 (0.057245)\n",
      "3. feature 33 (0.057121)\n",
      "4. feature 35 (0.056033)\n",
      "5. feature 8 (0.055041)\n",
      "6. feature 43 (0.048956)\n",
      "7. feature 7 (0.047332)\n",
      "8. feature 44 (0.047206)\n",
      "9. feature 15 (0.045112)\n",
      "10. feature 34 (0.043162)\n",
      "11. feature 24 (0.042151)\n",
      "12. feature 25 (0.040820)\n",
      "13. feature 26 (0.040356)\n",
      "14. feature 17 (0.037630)\n",
      "15. feature 16 (0.028095)\n",
      "16. feature 36 (0.019678)\n",
      "17. feature 18 (0.019644)\n",
      "18. feature 27 (0.018273)\n",
      "19. feature 9 (0.017350)\n",
      "20. feature 0 (0.017085)\n",
      "21. feature 20 (0.015456)\n",
      "22. feature 32 (0.014085)\n",
      "23. feature 41 (0.014006)\n",
      "24. feature 38 (0.013192)\n",
      "25. feature 2 (0.013150)\n",
      "26. feature 28 (0.012867)\n",
      "27. feature 11 (0.012693)\n",
      "28. feature 10 (0.011417)\n",
      "29. feature 37 (0.011394)\n",
      "30. feature 19 (0.011250)\n",
      "31. feature 1 (0.010419)\n",
      "32. feature 29 (0.008380)\n",
      "33. feature 14 (0.005770)\n",
      "34. feature 23 (0.005560)\n",
      "35. feature 22 (0.005037)\n",
      "36. feature 13 (0.004914)\n",
      "37. feature 40 (0.004909)\n",
      "38. feature 3 (0.004198)\n",
      "39. feature 31 (0.004118)\n",
      "40. feature 39 (0.003971)\n",
      "41. feature 5 (0.003605)\n",
      "42. feature 30 (0.003468)\n",
      "43. feature 4 (0.003448)\n",
      "44. feature 12 (0.003050)\n",
      "45. feature 21 (0.002979)\n"
     ]
    },
    {
     "data": {
      "image/png": "[encoded data removed]",
      "text/plain": [
       "<matplotlib.figure.Figure at 0x2343d253940>"
      ]
     },
     "metadata": {},
     "output_type": "display_data"
    }
   ],
   "source": [
    "print(\"Feature ranking:\")\n",
    "\n",
    "for f in range(X.shape[1]):\n",
    "    print(\"%d. feature %d (%f)\" % (f + 1, indices[f], importances[indices[f]]))\n",
    "\n",
    "# Plot the feature importances of the forest\n",
    "plt.figure()\n",
    "plt.title(\"Feature importances\")\n",
    "plt.barh(range(X.shape[1]), importances[indices],\n",
    "       color=\"r\", yerr=std[indices], align=\"edge\")\n",
    "plt.yticks(range(X.shape[1]), indices)\n",
    "plt.ylim([-1, X.shape[1]])\n",
    "plt.show()"
   ]
  },
  {
   "cell_type": "code",
   "execution_count": null,
   "metadata": {
    "collapsed": true
   },
   "outputs": [],
   "source": []
  }
 ],
 "metadata": {
  "kernelspec": {
   "display_name": "Python 3",
   "language": "python",
   "name": "python3"
  },
  "language_info": {
   "codemirror_mode": {
    "name": "ipython",
    "version": 3
   },
   "file_extension": ".py",
   "mimetype": "text/x-python",
   "name": "python",
   "nbconvert_exporter": "python",
   "pygments_lexer": "ipython3",
   "version": "3.6.3"
  }
 },
 "nbformat": 4,
 "nbformat_minor": 2
}
